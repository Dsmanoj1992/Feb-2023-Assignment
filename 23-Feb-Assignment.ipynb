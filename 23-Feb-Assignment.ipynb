{
 "cells": [
  {
   "cell_type": "markdown",
   "id": "dde657b7",
   "metadata": {},
   "source": [
    "# Q1. Create a Pandas Series that contains the following data: 4, 8, 15, 16, 23, and 42. Then, print the series."
   ]
  },
  {
   "cell_type": "code",
   "execution_count": 2,
   "id": "ae980942",
   "metadata": {},
   "outputs": [
    {
     "name": "stdout",
     "output_type": "stream",
     "text": [
      "0     4\n",
      "1     8\n",
      "2    15\n",
      "3    16\n",
      "4    23\n",
      "5    42\n",
      "dtype: int64\n"
     ]
    }
   ],
   "source": [
    "import pandas as pd \n",
    "data = [4, 8, 15, 16, 23, 42]\n",
    "my_series = pd.Series(data)\n",
    "print(my_series)"
   ]
  },
  {
   "cell_type": "markdown",
   "id": "5f757fcf",
   "metadata": {},
   "source": [
    "# Q2. Create a variable of list type containing 10 elements in it, and apply pandas.Series function on the variable print it.\n"
   ]
  },
  {
   "cell_type": "code",
   "execution_count": 3,
   "id": "191deb26",
   "metadata": {},
   "outputs": [
    {
     "name": "stdout",
     "output_type": "stream",
     "text": [
      "0     1\n",
      "1     2\n",
      "2     3\n",
      "3     4\n",
      "4     5\n",
      "5     6\n",
      "6     7\n",
      "7     8\n",
      "8     9\n",
      "9    10\n",
      "dtype: int64\n"
     ]
    }
   ],
   "source": [
    "my_list = [1,2,3,4,5,6,7,8,9,10]\n",
    "my_series = pd.Series(my_list)\n",
    "print(my_series)"
   ]
  },
  {
   "attachments": {
    "image.png": {
     "image/png": "[encoded data removed]"
    }
   },
   "cell_type": "markdown",
   "id": "71d5cd63",
   "metadata": {},
   "source": [
    "# Q3. Create a Pandas DataFrame that contains the following data:\n",
    "![image.png](attachment:image.png)\n",
    "Then, print the DataFrame."
   ]
  },
  {
   "cell_type": "code",
   "execution_count": 4,
   "id": "60a3c488",
   "metadata": {},
   "outputs": [
    {
     "name": "stdout",
     "output_type": "stream",
     "text": [
      "     Name  Age  Gender Country\n",
      "0   Alice   25  Female     USA\n",
      "1     Bob   30    Male  Canada\n",
      "2  Claire   27  Female      UK\n"
     ]
    }
   ],
   "source": [
    "data = {'Name': ['Alice', 'Bob' , 'Claire'],\n",
    "        'Age' : [25,30,27],\n",
    "        'Gender' : ['Female','Male','Female'],\n",
    "        'Country': ['USA','Canada','UK']}\n",
    "\n",
    "df = pd.DataFrame(data)\n",
    "print(df)"
   ]
  },
  {
   "cell_type": "markdown",
   "id": "573cf0c7",
   "metadata": {},
   "source": [
    "# Q4. What is ‘DataFrame’ in pandas and how is it different from pandas.series? Explain with an example."
   ]
  },
  {
   "cell_type": "markdown",
   "id": "9879b910",
   "metadata": {},
   "source": [
    "###### \n",
    "In pandas, a DataFrame is a two-dimensional labeled data structure with columns of potentially different data types. It is similar to a spreadsheet or SQL table, where each column represents a different variable and each row represents a different observation or sample. A DataFrame is a core data structure in pandas, and it provides various operations to manipulate and analyze data in a tabular format.\n",
    "\n",
    "On the other hand, a Series in pandas is a one-dimensional labeled array that can hold any data type (e.g., integers, floats, strings, or Python objects). It is similar to a column in a spreadsheet or a SQL table. A Series is a basic building block in pandas, and it provides various operations to manipulate and analyze data in a vectorized way.\n",
    "\n",
    "Here's an example to illustrate the difference between a DataFrame and a Series:"
   ]
  },
  {
   "cell_type": "code",
   "execution_count": 6,
   "id": "d2b2ad27",
   "metadata": {},
   "outputs": [
    {
     "name": "stdout",
     "output_type": "stream",
     "text": [
      "0    1\n",
      "1    2\n",
      "2    3\n",
      "3    4\n",
      "4    5\n",
      "dtype: int64\n",
      "           Name  age    Country\n",
      "0  Sudhansu sir   35      India\n",
      "1     Krish sir   36      India\n",
      "2    Hitesh sir   33      India\n",
      "3   Manoj coder   29      India\n",
      "4       Ronaldo   39   Portugal\n",
      "5         Massi   38  Argentina\n",
      "6        Neymar   30     Brazil\n",
      "7        Mbappe   23     France\n"
     ]
    }
   ],
   "source": [
    "my_series = pd.Series([1,2,3,4,5])\n",
    "print(my_series)\n",
    "\n",
    "data = {'Name' : ['Sudhansu sir', 'Krish sir','Hitesh sir', 'Manoj coder', 'Ronaldo', 'Massi', 'Neymar', 'Mbappe'],\n",
    "        'age' : [35,36,33,29,39,38,30,23],\n",
    "'Country' : ['India','India','India','India','Portugal', 'Argentina','Brazil','France']}\n",
    "\n",
    "my_df = pd.DataFrame(data)\n",
    "print(my_df)                 "
   ]
  },
  {
   "cell_type": "markdown",
   "id": "b18006d6",
   "metadata": {},
   "source": [
    "# Q5. What are some common functions you can use to manipulate data in a Pandas DataFrame? Can you give an example of when you might use one of these functions?"
   ]
  },
  {
   "cell_type": "markdown",
   "id": "6e66bc66",
   "metadata": {},
   "source": [
    "Pandas DataFrame provides many functions for manipulating and transforming data. Here are some of the most common functions:\n",
    "\n",
    "    head(n): returns the first n rows of the DataFrame.\n",
    "    tail(n): returns the last n rows of the DataFrame.\n",
    "    info(): provides information about the DataFrame, including the number of rows, columns, and data types.\n",
    "    describe(): computes various summary statistics of the numerical columns in the DataFrame.\n",
    "    loc[row_label, col_label]: selects a subset of rows and columns based on their labels.\n",
    "    iloc[row_index, col_index]: selects a subset of rows and columns based on their integer index.\n",
    "    groupby(column): groups the DataFrame by one or more columns and applies an aggregation function (e.g., sum, mean, count, etc.) to each group.\n",
    "    sort_values(by=column, ascending=True): sorts the DataFrame by one or more columns in ascending or descending order.\n",
    "    drop(column, axis=1): removes a column or columns from the DataFrame.\n",
    "    fillna(value): fills missing values in the DataFrame with a specified value.\n",
    "\n",
    "Here's an example of how you might use some of these functions:"
   ]
  },
  {
   "cell_type": "code",
   "execution_count": 7,
   "id": "2642222a",
   "metadata": {},
   "outputs": [],
   "source": [
    "data = {'Name' : ['Sudhansu sir', 'Krish sir','Hitesh sir', 'Manoj coder', 'Ronaldo', 'Massi', 'Neymar', 'Mbappe'],\n",
    "        'age' : [35,36,33,29,39,38,30,23],\n",
    "'Country' : ['India','India','India','India','Portugal', 'Argentina','Brazil','France']}\n",
    "df = pd.DataFrame(data)"
   ]
  },
  {
   "cell_type": "code",
   "execution_count": 9,
   "id": "c8e02c07",
   "metadata": {},
   "outputs": [
    {
     "data": {
      "text/html": [
       "<div>\n",
       "<style scoped>\n",
       "    .dataframe tbody tr th:only-of-type {\n",
       "        vertical-align: middle;\n",
       "    }\n",
       "\n",
       "    .dataframe tbody tr th {\n",
       "        vertical-align: top;\n",
       "    }\n",
       "\n",
       "    .dataframe thead th {\n",
       "        text-align: right;\n",
       "    }\n",
       "</style>\n",
       "<table border=\"1\" class=\"dataframe\">\n",
       "  <thead>\n",
       "    <tr style=\"text-align: right;\">\n",
       "      <th></th>\n",
       "      <th>Name</th>\n",
       "      <th>age</th>\n",
       "      <th>Country</th>\n",
       "    </tr>\n",
       "  </thead>\n",
       "  <tbody>\n",
       "    <tr>\n",
       "      <th>0</th>\n",
       "      <td>Sudhansu sir</td>\n",
       "      <td>35</td>\n",
       "      <td>India</td>\n",
       "    </tr>\n",
       "    <tr>\n",
       "      <th>1</th>\n",
       "      <td>Krish sir</td>\n",
       "      <td>36</td>\n",
       "      <td>India</td>\n",
       "    </tr>\n",
       "    <tr>\n",
       "      <th>2</th>\n",
       "      <td>Hitesh sir</td>\n",
       "      <td>33</td>\n",
       "      <td>India</td>\n",
       "    </tr>\n",
       "    <tr>\n",
       "      <th>3</th>\n",
       "      <td>Manoj coder</td>\n",
       "      <td>29</td>\n",
       "      <td>India</td>\n",
       "    </tr>\n",
       "    <tr>\n",
       "      <th>4</th>\n",
       "      <td>Ronaldo</td>\n",
       "      <td>39</td>\n",
       "      <td>Portugal</td>\n",
       "    </tr>\n",
       "  </tbody>\n",
       "</table>\n",
       "</div>"
      ],
      "text/plain": [
       "           Name  age   Country\n",
       "0  Sudhansu sir   35     India\n",
       "1     Krish sir   36     India\n",
       "2    Hitesh sir   33     India\n",
       "3   Manoj coder   29     India\n",
       "4       Ronaldo   39  Portugal"
      ]
     },
     "execution_count": 9,
     "metadata": {},
     "output_type": "execute_result"
    }
   ],
   "source": [
    "df.head()"
   ]
  },
  {
   "cell_type": "code",
   "execution_count": 11,
   "id": "bbcf264e",
   "metadata": {},
   "outputs": [
    {
     "data": {
      "text/html": [
       "<div>\n",
       "<style scoped>\n",
       "    .dataframe tbody tr th:only-of-type {\n",
       "        vertical-align: middle;\n",
       "    }\n",
       "\n",
       "    .dataframe tbody tr th {\n",
       "        vertical-align: top;\n",
       "    }\n",
       "\n",
       "    .dataframe thead th {\n",
       "        text-align: right;\n",
       "    }\n",
       "</style>\n",
       "<table border=\"1\" class=\"dataframe\">\n",
       "  <thead>\n",
       "    <tr style=\"text-align: right;\">\n",
       "      <th></th>\n",
       "      <th>Name</th>\n",
       "      <th>age</th>\n",
       "      <th>Country</th>\n",
       "    </tr>\n",
       "  </thead>\n",
       "  <tbody>\n",
       "    <tr>\n",
       "      <th>0</th>\n",
       "      <td>Sudhansu sir</td>\n",
       "      <td>35</td>\n",
       "      <td>India</td>\n",
       "    </tr>\n",
       "    <tr>\n",
       "      <th>1</th>\n",
       "      <td>Krish sir</td>\n",
       "      <td>36</td>\n",
       "      <td>India</td>\n",
       "    </tr>\n",
       "  </tbody>\n",
       "</table>\n",
       "</div>"
      ],
      "text/plain": [
       "           Name  age Country\n",
       "0  Sudhansu sir   35   India\n",
       "1     Krish sir   36   India"
      ]
     },
     "execution_count": 11,
     "metadata": {},
     "output_type": "execute_result"
    }
   ],
   "source": [
    "df.head(2)"
   ]
  },
  {
   "cell_type": "code",
   "execution_count": 10,
   "id": "acf22467",
   "metadata": {},
   "outputs": [
    {
     "data": {
      "text/html": [
       "<div>\n",
       "<style scoped>\n",
       "    .dataframe tbody tr th:only-of-type {\n",
       "        vertical-align: middle;\n",
       "    }\n",
       "\n",
       "    .dataframe tbody tr th {\n",
       "        vertical-align: top;\n",
       "    }\n",
       "\n",
       "    .dataframe thead th {\n",
       "        text-align: right;\n",
       "    }\n",
       "</style>\n",
       "<table border=\"1\" class=\"dataframe\">\n",
       "  <thead>\n",
       "    <tr style=\"text-align: right;\">\n",
       "      <th></th>\n",
       "      <th>age</th>\n",
       "    </tr>\n",
       "  </thead>\n",
       "  <tbody>\n",
       "    <tr>\n",
       "      <th>count</th>\n",
       "      <td>8.00000</td>\n",
       "    </tr>\n",
       "    <tr>\n",
       "      <th>mean</th>\n",
       "      <td>32.87500</td>\n",
       "    </tr>\n",
       "    <tr>\n",
       "      <th>std</th>\n",
       "      <td>5.33017</td>\n",
       "    </tr>\n",
       "    <tr>\n",
       "      <th>min</th>\n",
       "      <td>23.00000</td>\n",
       "    </tr>\n",
       "    <tr>\n",
       "      <th>25%</th>\n",
       "      <td>29.75000</td>\n",
       "    </tr>\n",
       "    <tr>\n",
       "      <th>50%</th>\n",
       "      <td>34.00000</td>\n",
       "    </tr>\n",
       "    <tr>\n",
       "      <th>75%</th>\n",
       "      <td>36.50000</td>\n",
       "    </tr>\n",
       "    <tr>\n",
       "      <th>max</th>\n",
       "      <td>39.00000</td>\n",
       "    </tr>\n",
       "  </tbody>\n",
       "</table>\n",
       "</div>"
      ],
      "text/plain": [
       "            age\n",
       "count   8.00000\n",
       "mean   32.87500\n",
       "std     5.33017\n",
       "min    23.00000\n",
       "25%    29.75000\n",
       "50%    34.00000\n",
       "75%    36.50000\n",
       "max    39.00000"
      ]
     },
     "execution_count": 10,
     "metadata": {},
     "output_type": "execute_result"
    }
   ],
   "source": [
    "df.describe()"
   ]
  },
  {
   "cell_type": "code",
   "execution_count": 12,
   "id": "323caa37",
   "metadata": {},
   "outputs": [
    {
     "data": {
      "text/html": [
       "<div>\n",
       "<style scoped>\n",
       "    .dataframe tbody tr th:only-of-type {\n",
       "        vertical-align: middle;\n",
       "    }\n",
       "\n",
       "    .dataframe tbody tr th {\n",
       "        vertical-align: top;\n",
       "    }\n",
       "\n",
       "    .dataframe thead th {\n",
       "        text-align: right;\n",
       "    }\n",
       "</style>\n",
       "<table border=\"1\" class=\"dataframe\">\n",
       "  <thead>\n",
       "    <tr style=\"text-align: right;\">\n",
       "      <th></th>\n",
       "      <th>Name</th>\n",
       "      <th>age</th>\n",
       "      <th>Country</th>\n",
       "    </tr>\n",
       "  </thead>\n",
       "  <tbody>\n",
       "    <tr>\n",
       "      <th>3</th>\n",
       "      <td>Manoj coder</td>\n",
       "      <td>29</td>\n",
       "      <td>India</td>\n",
       "    </tr>\n",
       "    <tr>\n",
       "      <th>4</th>\n",
       "      <td>Ronaldo</td>\n",
       "      <td>39</td>\n",
       "      <td>Portugal</td>\n",
       "    </tr>\n",
       "    <tr>\n",
       "      <th>5</th>\n",
       "      <td>Massi</td>\n",
       "      <td>38</td>\n",
       "      <td>Argentina</td>\n",
       "    </tr>\n",
       "    <tr>\n",
       "      <th>6</th>\n",
       "      <td>Neymar</td>\n",
       "      <td>30</td>\n",
       "      <td>Brazil</td>\n",
       "    </tr>\n",
       "    <tr>\n",
       "      <th>7</th>\n",
       "      <td>Mbappe</td>\n",
       "      <td>23</td>\n",
       "      <td>France</td>\n",
       "    </tr>\n",
       "  </tbody>\n",
       "</table>\n",
       "</div>"
      ],
      "text/plain": [
       "          Name  age    Country\n",
       "3  Manoj coder   29      India\n",
       "4      Ronaldo   39   Portugal\n",
       "5        Massi   38  Argentina\n",
       "6       Neymar   30     Brazil\n",
       "7       Mbappe   23     France"
      ]
     },
     "execution_count": 12,
     "metadata": {},
     "output_type": "execute_result"
    }
   ],
   "source": [
    "df.tail()"
   ]
  },
  {
   "cell_type": "code",
   "execution_count": 13,
   "id": "3e617426",
   "metadata": {},
   "outputs": [
    {
     "data": {
      "text/plain": [
       "pandas.core.frame.DataFrame"
      ]
     },
     "execution_count": 13,
     "metadata": {},
     "output_type": "execute_result"
    }
   ],
   "source": [
    "type(df)"
   ]
  },
  {
   "cell_type": "code",
   "execution_count": 14,
   "id": "5db873a8",
   "metadata": {},
   "outputs": [
    {
     "data": {
      "text/plain": [
       "Index(['Name', 'age', 'Country'], dtype='object')"
      ]
     },
     "execution_count": 14,
     "metadata": {},
     "output_type": "execute_result"
    }
   ],
   "source": [
    "df.columns"
   ]
  },
  {
   "cell_type": "code",
   "execution_count": 15,
   "id": "25fefcd5",
   "metadata": {},
   "outputs": [
    {
     "data": {
      "text/plain": [
       "['Name', 'age', 'Country']"
      ]
     },
     "execution_count": 15,
     "metadata": {},
     "output_type": "execute_result"
    }
   ],
   "source": [
    "list(df.columns)"
   ]
  },
  {
   "cell_type": "code",
   "execution_count": 19,
   "id": "dbe4ff54",
   "metadata": {},
   "outputs": [
    {
     "name": "stdout",
     "output_type": "stream",
     "text": [
      "             age\n",
      "Country         \n",
      "Argentina  38.00\n",
      "Brazil     30.00\n",
      "France     23.00\n",
      "India      33.25\n",
      "Portugal   39.00\n"
     ]
    }
   ],
   "source": [
    "grouped_df = df.groupby('Country').mean(numeric_only=True)\n",
    "print(grouped_df)"
   ]
  },
  {
   "cell_type": "code",
   "execution_count": null,
   "id": "818c08ce",
   "metadata": {},
   "outputs": [],
   "source": []
  },
  {
   "cell_type": "markdown",
   "id": "35dc7de5",
   "metadata": {},
   "source": [
    "# Q6. Which of the following is mutable in nature Series, DataFrame, Panel?"
   ]
  },
  {
   "cell_type": "markdown",
   "id": "ceaffc6c",
   "metadata": {},
   "source": [
    "Both Series and DataFrame are mutable in nature, meaning that their data can be modified after they are created.\n",
    "\n",
    "A Series is a one-dimensional labeled array capable of holding any data type and can be modified by assigning new values to its indices.\n",
    "\n",
    "A DataFrame is a two-dimensional labeled data structure with columns of potentially different data types and can be modified by assigning new values to its cells, columns or rows.\n",
    "\n",
    "Panel is a three-dimensional data structure in pandas which is mutable in nature, however, it has been deprecated since version 0.25.0 in favor of the more powerful and flexible MultiIndex functionality."
   ]
  },
  {
   "cell_type": "code",
   "execution_count": null,
   "id": "eca42add",
   "metadata": {},
   "outputs": [],
   "source": []
  },
  {
   "cell_type": "markdown",
   "id": "444bf909",
   "metadata": {},
   "source": [
    "# Q7. Create a DataFrame using multiple Series. Explain with an example."
   ]
  },
  {
   "cell_type": "code",
   "execution_count": 27,
   "id": "94d7e85f",
   "metadata": {},
   "outputs": [
    {
     "name": "stdout",
     "output_type": "stream",
     "text": [
      "      Name  Age           City\n",
      "0    Alice   25       New York\n",
      "1      Bob   30        Chicago\n",
      "2  Charlie   35  San Francisco\n",
      "3     Dave   40    Los Angeles\n"
     ]
    }
   ],
   "source": [
    "names = pd.Series(['Alice', 'Bob', 'Charlie', 'Dave'])\n",
    "\n",
    "ages = pd.Series([25, 30, 35, 40])\n",
    "\n",
    "cities = pd.Series(['New York', 'Chicago', 'San Francisco', 'Los Angeles'])\n",
    "\n",
    "data = {'Name': names, 'Age': ages, 'City': cities}\n",
    "\n",
    "df = pd.DataFrame(data)\n",
    "\n",
    "print(df)"
   ]
  },
  {
   "cell_type": "code",
   "execution_count": null,
   "id": "5376acf0",
   "metadata": {},
   "outputs": [],
   "source": []
  },
  {
   "cell_type": "code",
   "execution_count": null,
   "id": "185427b9",
   "metadata": {},
   "outputs": [],
   "source": []
  }
 ],
 "metadata": {
  "kernelspec": {
   "display_name": "Python 3 (ipykernel)",
   "language": "python",
   "name": "python3"
  },
  "language_info": {
   "codemirror_mode": {
    "name": "ipython",
    "version": 3
   },
   "file_extension": ".py",
   "mimetype": "text/x-python",
   "name": "python",
   "nbconvert_exporter": "python",
   "pygments_lexer": "ipython3",
   "version": "3.10.4"
  }
 },
 "nbformat": 4,
 "nbformat_minor": 5
}
