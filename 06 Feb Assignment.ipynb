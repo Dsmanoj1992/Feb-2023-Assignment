{
 "cells": [
  {
   "cell_type": "markdown",
   "id": "bffe86bc",
   "metadata": {},
   "source": [
    "### \n",
    "Q1. Create a function which will take a list as an argument and return the product of all the numbers\n",
    "after creating a flat list.\n",
    "\n",
    "Use the below-given list as an argument for your function.\n",
    "\n",
    "\n",
    "list1 = [1,2,3,4, [44,55,66, True], False, (34,56,78,89,34), {1,2,3,3,2,1}, {1:34, \"key2\": [55, 67, 78, 89], 4: (45,\n",
    "22, 61, 34)}, [56, 'data science'], 'Machine Learning']\n",
    "\n",
    "\n",
    "Note: you must extract numeric keys and values of the dictionary also."
   ]
  },
  {
   "cell_type": "code",
   "execution_count": 3,
   "id": "ec14d30d",
   "metadata": {},
   "outputs": [
    {
     "name": "stdout",
     "output_type": "stream",
     "text": [
      "689118639831180913138973540352000\n"
     ]
    }
   ],
   "source": [
    "# Answer\n",
    "def flatten_and_multiply(lst):\n",
    "    flat_list = []\n",
    "    for item in lst:\n",
    "        if type(item) in (int, float):\n",
    "            flat_list.append(item)\n",
    "        elif type(item) == tuple:\n",
    "            for i in item:\n",
    "                if type(i) in (int, float):\n",
    "                    flat_list.append(i)\n",
    "        elif type(item) == list:\n",
    "            for i in item:\n",
    "                flat_list.extend(flatten_and_multiply([i]))\n",
    "        elif type(item) == dict:\n",
    "            for key, value in item.items():\n",
    "                if type(key) in (int, float):\n",
    "                    flat_list.append(key)\n",
    "                if type(value) in (int, float):\n",
    "                    flat_list.append(value)\n",
    "                if type(value) in (list, tuple, dict):\n",
    "                    flat_list.extend(flatten_and_multiply([value]))\n",
    "    return flat_list\n",
    "\n",
    "def multiply_numbers(lst):\n",
    "    flat_list = flatten_and_multiply(lst)\n",
    "    result = 1\n",
    "    for num in flat_list:\n",
    "        result *= num\n",
    "    return result\n",
    "\n",
    "list1 = [1,2,3,4, [44,55,66, True], False, (34,56,78,89,34), {1,2,3,3,2,1}, {1:34, \"key2\": [55, 67, 78, 89], 4: (45, 22, 61, 34)}, [56, 'data science'], 'Machine Learning']\n",
    "print(multiply_numbers(list1))\n"
   ]
  },
  {
   "cell_type": "markdown",
   "id": "3e112a44",
   "metadata": {},
   "source": [
    "### \n",
    "Q2. Write a python program for encrypting a message sent to you by your friend. The logic of encryption\n",
    "should be such that, for a the output should be z. For b, the output should be y. For c, the output should\n",
    "be x respectively. Also, the whitespace should be replaced with a dollar sign. Keep the punctuation\n",
    "marks unchanged.\n",
    "\n",
    "\n",
    "Input Sentence: I want to become a Data Scientist.\n",
    "\n",
    "\n",
    "Encrypt the above input sentence using the program you just created.\n",
    "\n",
    "\n",
    "Note: Convert the given input sentence into lowercase before encrypting. The final output should be\n",
    "lowercase."
   ]
  },
  {
   "cell_type": "code",
   "execution_count": 4,
   "id": "5bd0f745",
   "metadata": {},
   "outputs": [
    {
     "name": "stdout",
     "output_type": "stream",
     "text": [
      "h$v`ms$sn$adbnld$`$c`s`$rbhdmshrs.\n"
     ]
    }
   ],
   "source": [
    "def encrypt_message(message):\n",
    "    message = message.lower()\n",
    "    encrypted_message = \"\"\n",
    "    for char in message:\n",
    "        if char == \" \":\n",
    "            encrypted_message += \"$\"\n",
    "        elif char.isalpha():\n",
    "            encrypted_char = chr(ord(char) - 1)\n",
    "            encrypted_message += encrypted_char\n",
    "        else:\n",
    "            encrypted_message += char\n",
    "    return encrypted_message\n",
    "\n",
    "message = \"I want to become a Data Scientist.\"\n",
    "print(encrypt_message(message))\n"
   ]
  },
  {
   "cell_type": "code",
   "execution_count": null,
   "id": "e21f240c",
   "metadata": {},
   "outputs": [],
   "source": []
  }
 ],
 "metadata": {
  "kernelspec": {
   "display_name": "Python 3 (ipykernel)",
   "language": "python",
   "name": "python3"
  },
  "language_info": {
   "codemirror_mode": {
    "name": "ipython",
    "version": 3
   },
   "file_extension": ".py",
   "mimetype": "text/x-python",
   "name": "python",
   "nbconvert_exporter": "python",
   "pygments_lexer": "ipython3",
   "version": "3.9.7"
  }
 },
 "nbformat": 4,
 "nbformat_minor": 5
}
