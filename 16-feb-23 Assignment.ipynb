{
 "cells": [
  {
   "cell_type": "markdown",
   "id": "244bc8a1",
   "metadata": {},
   "source": [
    "# Q1. What is a database? Differentiate between SQL and NoSQL databases."
   ]
  },
  {
   "cell_type": "markdown",
   "id": "f4753c0e",
   "metadata": {},
   "source": [
    "# A1\n",
    "\n",
    "A database is a collection of organized data that is stored and managed in a computer system. It is designed to allow for efficient data retrieval, storage, and manipulation. Databases are used in many applications, such as websites, business systems, and scientific research."
   ]
  },
  {
   "cell_type": "markdown",
   "id": "529873c5",
   "metadata": {},
   "source": [
    "SQL databases and NoSQL databases are two types of databases that differ in their design and approach to storing and retrieving \n",
    "\n",
    "data. Here are the main differences between the two:"
   ]
  },
  {
   "cell_type": "markdown",
   "id": "310f3c31",
   "metadata": {},
   "source": [
    "1. Data model: SQL databases are based on the relational data model, where data is stored in tables with predefined columns and rows. NoSQL databases, on the other hand, use non-relational data models, such as document-based, key-value, or graph-based models."
   ]
  },
  {
   "cell_type": "markdown",
   "id": "fd09c2d6",
   "metadata": {},
   "source": [
    "2. Scalability: NoSQL databases are designed to be highly scalable and can handle large volumes of data and high traffic loads. SQL databases are less scalable and may struggle to handle large amounts of data or high traffic."
   ]
  },
  {
   "cell_type": "markdown",
   "id": "d14e78fd",
   "metadata": {},
   "source": [
    "3. Flexibility: NoSQL databases are more flexible than SQL databases because they allow for dynamic changes in the data structure without the need for a predefined schema. SQL databases require a predefined schema and may not be as flexible when it comes to data structure changes."
   ]
  },
  {
   "cell_type": "markdown",
   "id": "236c230f",
   "metadata": {},
   "source": [
    "4. Query language: SQL databases use SQL (Structured Query Language) to query and manipulate data, while NoSQL databases have their own query languages that are specific to the data model being used."
   ]
  },
  {
   "cell_type": "markdown",
   "id": "912d0dbe",
   "metadata": {},
   "source": [
    "5. Transactions: SQL databases are designed to handle transactions, which ensure that changes to the database are made in an all-or-nothing fashion. NoSQL databases do not always support transactions and may have different consistency models that may not guarantee the same level of data consistency."
   ]
  },
  {
   "cell_type": "markdown",
   "id": "aced507c",
   "metadata": {},
   "source": [
    "# Q2. What is DDL? Explain why CREATE, DROP, ALTER, and TRUNCATE are used with an example."
   ]
  },
  {
   "cell_type": "markdown",
   "id": "4b633d91",
   "metadata": {},
   "source": [
    "# A2. \n",
    "DDL (Data Definition Language) is a subset of SQL that is used to define and modify the structure of database objects such as tables, indexes, and constraints. It includes statements such as CREATE, DROP, ALTER, and TRUNCATE."
   ]
  },
  {
   "cell_type": "markdown",
   "id": "9a043961",
   "metadata": {},
   "source": [
    "### CREATE: The CREATE statement is used to create a new object in the database, such as a table, index, or constraint. For example, to create a new table called \"employees\" with columns for employee ID, name, and salary."
   ]
  },
  {
   "cell_type": "markdown",
   "id": "c6d1e22e",
   "metadata": {},
   "source": [
    "CREATE TABLE employees (\n",
    "  \n",
    "  employee_id INT PRIMARY KEY,\n",
    "  \n",
    "  name VARCHAR(50),\n",
    "  \n",
    "  salary DECIMAL(10,2)\n",
    "\n",
    ");\n"
   ]
  },
  {
   "cell_type": "markdown",
   "id": "2f4b26b5",
   "metadata": {},
   "source": [
    "### DROP: The DROP statement is used to remove an object from the database. For example, to remove the \"employees\" table that was created earlier."
   ]
  },
  {
   "cell_type": "markdown",
   "id": "535f8300",
   "metadata": {},
   "source": [
    "DROP TABLE employees;\n"
   ]
  },
  {
   "cell_type": "markdown",
   "id": "c0d6b8d0",
   "metadata": {},
   "source": [
    "### ALTER: The ALTER statement is used to modify the structure of an existing object in the database, such as a table, index, or constraint. For example, to add a new column called \"department\" to the \"employees\" table."
   ]
  },
  {
   "cell_type": "markdown",
   "id": "73408e54",
   "metadata": {},
   "source": [
    "ALTER TABLE employees ADD COLUMN department VARCHAR(50);\n"
   ]
  },
  {
   "cell_type": "markdown",
   "id": "5725c416",
   "metadata": {},
   "source": [
    "TRUNCATE: The TRUNCATE statement is used to remove all data from a table, but the table structure and any associated objects remain intact. For example, to remove all data from the \"employees\" table,"
   ]
  },
  {
   "cell_type": "markdown",
   "id": "84db2702",
   "metadata": {},
   "source": [
    "TRUNCATE TABLE employees;\n"
   ]
  },
  {
   "cell_type": "markdown",
   "id": "d6d0478b",
   "metadata": {},
   "source": [
    "# Q3. What is DML? Explain INSERT, UPDATE, and DELETE with an example."
   ]
  },
  {
   "cell_type": "markdown",
   "id": "f17186eb",
   "metadata": {},
   "source": [
    "A3. DML (Data Manipulation Language) is a subset of SQL that is used to manipulate the data within the database. It includes statements such as INSERT, UPDATE, and DELETE."
   ]
  },
  {
   "cell_type": "markdown",
   "id": "fc723032",
   "metadata": {},
   "source": [
    "INSERT: The INSERT statement is used to insert new rows of data into a table. For example, to insert a new employee with an ID of 123, a name of \"John Doe\", and a salary of $50,000 into the \"employees\" table created in the previous example,"
   ]
  },
  {
   "cell_type": "markdown",
   "id": "2cb96d3b",
   "metadata": {},
   "source": [
    "INSERT INTO employees (employee_id, name, salary) VALUES (123, 'John Doe', 50000);\n"
   ]
  },
  {
   "cell_type": "markdown",
   "id": "300027f5",
   "metadata": {},
   "source": [
    "UPDATE: The UPDATE statement is used to modify existing rows of data in a table. For example, to update the salary of the employee with an ID of 123 to $55,000,"
   ]
  },
  {
   "cell_type": "markdown",
   "id": "1d03e086",
   "metadata": {},
   "source": [
    "UPDATE employees SET salary = 55000 WHERE employee_id = 123;\n"
   ]
  },
  {
   "cell_type": "markdown",
   "id": "dc0e455d",
   "metadata": {},
   "source": [
    "DELETE: The DELETE statement is used to delete rows of data from a table. For example, to delete the employee with an ID of 123 from the \"employees\" table,\n"
   ]
  },
  {
   "cell_type": "markdown",
   "id": "866ef4df",
   "metadata": {},
   "source": [
    "DELETE FROM employees WHERE employee_id = 123;\n"
   ]
  },
  {
   "cell_type": "markdown",
   "id": "533afb84",
   "metadata": {},
   "source": [
    "# Q4. What is DQL? Explain SELECT with an example"
   ]
  },
  {
   "cell_type": "markdown",
   "id": "ba1d9c0c",
   "metadata": {},
   "source": [
    "A4. DQL (Data Query Language) is a subset of SQL that is used to retrieve data from the database. The most commonly used DQL statement is SELECT, which is used to retrieve data from one or more tables in the database."
   ]
  },
  {
   "cell_type": "markdown",
   "id": "70f5b63a",
   "metadata": {},
   "source": [
    "SELECT: The SELECT statement is used to retrieve data from one or more tables in the database. For example, to retrieve all data from the \"employees\" table created in the previous examples,"
   ]
  },
  {
   "cell_type": "markdown",
   "id": "c3b864f3",
   "metadata": {},
   "source": [
    "SELECT * FROM employees;\n"
   ]
  },
  {
   "cell_type": "markdown",
   "id": "d430e4ab",
   "metadata": {},
   "source": [
    "This statement will retrieve all columns from the \"employees\" table. To retrieve specific columns, the column names can be listed after the SELECT keyword, separated by commas. For example, to retrieve only the employee ID and name columns from the \"employees\" table,"
   ]
  },
  {
   "cell_type": "markdown",
   "id": "86b13b9d",
   "metadata": {},
   "source": [
    "SELECT employee_id, name FROM employees;\n"
   ]
  },
  {
   "cell_type": "markdown",
   "id": "199607ec",
   "metadata": {},
   "source": [
    "The SELECT statement can also be used to filter the data retrieved from the database using a WHERE clause. For example, to retrieve only employees with a salary greater than $50,000, "
   ]
  },
  {
   "cell_type": "markdown",
   "id": "8bd0244c",
   "metadata": {},
   "source": [
    "SELECT * FROM employees WHERE salary > 50000;\n"
   ]
  },
  {
   "cell_type": "markdown",
   "id": "b7101490",
   "metadata": {},
   "source": [
    "In addition, the SELECT statement can be used to sort the data retrieved from the database using an ORDER BY clause. For example, to retrieve all employees in the \"employees\" table, sorted by their salary in descending order,"
   ]
  },
  {
   "cell_type": "markdown",
   "id": "7f8d62a6",
   "metadata": {},
   "source": [
    "SELECT * FROM employees ORDER BY salary DESC;\n"
   ]
  },
  {
   "cell_type": "markdown",
   "id": "ee9e7e26",
   "metadata": {},
   "source": [
    "# Q5. Explain Primary Key and Foreign Key."
   ]
  },
  {
   "cell_type": "markdown",
   "id": "74cfdc4c",
   "metadata": {},
   "source": [
    "A5. Primary key and foreign key are two important concepts in database design that are used to establish relationships between tables."
   ]
  },
  {
   "cell_type": "markdown",
   "id": "e31a23c1",
   "metadata": {},
   "source": [
    "Primary Key: A primary key is a unique identifier for each row in a table. It is used to ensure that each row can be uniquely identified and to enforce data integrity. A primary key can be made up of one or more columns in a table, and it cannot contain null values. A primary key is used as a reference point in other tables to establish relationships between tables. For example, in an \"employees\" table, the employee ID column could be used as the primary key to ensure that each employee is uniquely identified."
   ]
  },
  {
   "cell_type": "markdown",
   "id": "0506f119",
   "metadata": {},
   "source": [
    "Foreign Key: A foreign key is a column or a set of columns in one table that refers to the primary key of another table. It is used to establish a relationship between two tables. The foreign key ensures that the data in the referencing table (child table) matches the data in the referenced table (parent table). For example, in a \"departments\" table, a foreign key could be used to reference the primary key of the \"employees\" table, which would ensure that each department is associated with the correct employees."
   ]
  },
  {
   "cell_type": "markdown",
   "id": "a1feee3b",
   "metadata": {},
   "source": [
    "# Q6. Write a python code to connect MySQL to python. Explain the cursor() and execute() method."
   ]
  },
  {
   "cell_type": "markdown",
   "id": "746c8936",
   "metadata": {},
   "source": [
    "import mysql.connector\n",
    "\n",
    "# Connect to the MySQL database\n",
    "mydb = mysql.connector.connect(\n",
    "  host=\"localhost\",\n",
    "  user=\"username\",\n",
    "  password=\"password\",\n",
    "  database=\"databasename\"\n",
    ")\n",
    "\n",
    "# Create a cursor object\n",
    "mycursor = mydb.cursor()\n",
    "\n",
    "# Execute a SQL query\n",
    "mycursor.execute(\"SELECT * FROM employees\")\n",
    "\n",
    "# Fetch all rows of the result\n",
    "result = mycursor.fetchall()\n",
    "\n",
    "# Print the result\n",
    "for row in result:\n",
    "  print(row)\n"
   ]
  },
  {
   "cell_type": "markdown",
   "id": "51e6734d",
   "metadata": {},
   "source": [
    "Next, we create a cursor object using the cursor() method of the database connection object. The cursor object is used to execute SQL queries and fetch the results."
   ]
  },
  {
   "cell_type": "markdown",
   "id": "5e05079c",
   "metadata": {},
   "source": [
    "We then execute a SQL query using the execute() method of the cursor object. In this example, we execute a SELECT statement that retrieves all rows from the \"employees\" table."
   ]
  },
  {
   "cell_type": "markdown",
   "id": "a5a73388",
   "metadata": {},
   "source": [
    "After executing the query, we use the fetchall() method to retrieve all rows of the result. We then iterate over the result set and print each row using a for loop."
   ]
  },
  {
   "cell_type": "markdown",
   "id": "8b9303a6",
   "metadata": {},
   "source": [
    "# Q7. Give the order of execution of SQL clauses in an SQL query."
   ]
  },
  {
   "cell_type": "markdown",
   "id": "bf20b6e1",
   "metadata": {},
   "source": [
    "    FROM: Specifies the table or tables to be queried.\n",
    "    JOIN: Combines rows from two or more tables based on a related column between them.\n",
    "    WHERE: Filters the rows returned by the query based on a specified condition.\n",
    "    GROUP BY: Groups the result set by one or more columns.\n",
    "    HAVING: Filters the groups returned by the GROUP BY clause based on a specified condition.\n",
    "    SELECT: Specifies the columns to be retrieved from the tables in the FROM clause.\n",
    "    DISTINCT: Removes duplicates from the result set.\n",
    "    ORDER BY: Sorts the result set by one or more columns in ascending or descending order.\n",
    "    LIMIT/OFFSET: Limits the number of rows returned by the query."
   ]
  },
  {
   "cell_type": "code",
   "execution_count": null,
   "id": "0c3910d3",
   "metadata": {},
   "outputs": [],
   "source": []
  }
 ],
 "metadata": {
  "kernelspec": {
   "display_name": "Python 3 (ipykernel)",
   "language": "python",
   "name": "python3"
  },
  "language_info": {
   "codemirror_mode": {
    "name": "ipython",
    "version": 3
   },
   "file_extension": ".py",
   "mimetype": "text/x-python",
   "name": "python",
   "nbconvert_exporter": "python",
   "pygments_lexer": "ipython3",
   "version": "3.10.4"
  }
 },
 "nbformat": 4,
 "nbformat_minor": 5
}
