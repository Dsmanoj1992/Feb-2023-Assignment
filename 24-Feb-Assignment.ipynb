{
 "cells": [
  {
   "cell_type": "code",
   "execution_count": 1,
   "id": "3c06bbbd",
   "metadata": {},
   "outputs": [],
   "source": [
    "import pandas as pd"
   ]
  },
  {
   "cell_type": "markdown",
   "id": "2de0621b",
   "metadata": {},
   "source": [
    "# Q1. List any five functions of the pandas library with execution."
   ]
  },
  {
   "cell_type": "markdown",
   "id": "eeec4c2b",
   "metadata": {},
   "source": [
    "1.read_csv: This function reads a CSV file and returns a DataFrame object. It has many parameters to customize the behavior of the reading operation.\n",
    "\n",
    "2.head: This function returns the first n rows of a DataFrame object. The default value of n is 5\n",
    "\n",
    "3.describe: This function generates descriptive statistics of a DataFrame object. It includes count, mean, standard deviation, minimum, maximum, and quartiles\n",
    "\n",
    "4.groupby: This function groups a DataFrame object by one or more columns and applies a function to each group.\n",
    "\n",
    "5.merge: This function combines two or more DataFrame objects based on the values of one or more columns. It has many parameters to customize the behavior of the merging operation."
   ]
  },
  {
   "cell_type": "code",
   "execution_count": null,
   "id": "3884f49d",
   "metadata": {},
   "outputs": [],
   "source": []
  },
  {
   "cell_type": "markdown",
   "id": "d50d53da",
   "metadata": {},
   "source": [
    "# Q2. Given a Pandas DataFrame df with columns 'A', 'B', and 'C', write a Python function to re-index the DataFrame with a new index that starts from 1 and increments by 2 for each row."
   ]
  },
  {
   "cell_type": "code",
   "execution_count": 3,
   "id": "a70e28f1",
   "metadata": {},
   "outputs": [],
   "source": [
    "def reindex_with_incrementing_values(df):\n",
    "    new_index = range (1,2*len(df)+1, 2)\n",
    "    df.index = new_index\n",
    "    return df"
   ]
  },
  {
   "cell_type": "code",
   "execution_count": 4,
   "id": "e7cf886a",
   "metadata": {},
   "outputs": [
    {
     "name": "stdout",
     "output_type": "stream",
     "text": [
      "   A  B  C\n",
      "1  1  4  7\n",
      "3  2  5  8\n",
      "5  3  6  9\n"
     ]
    }
   ],
   "source": [
    "df = pd.DataFrame({'A' : [1,2,3,],'B':[4,5,6], 'C': [7,8,9]})\n",
    "df_reindex = reindex_with_incrementing_values(df)\n",
    "print(df_reindex)"
   ]
  },
  {
   "cell_type": "markdown",
   "id": "05ddc2fa",
   "metadata": {},
   "source": [
    "# Q3. You have a Pandas DataFrame df with a column named 'Values'. Write a Python function thatiterates over the DataFrame and calculates the sum of the first three values in the 'Values' column. The function should print the sum to the console.\n",
    "# For example, if the 'Values' column of df contains the values [10, 20, 30, 40, 50], your function should Calculate and print the sum of the first three values, which is 60."
   ]
  },
  {
   "cell_type": "code",
   "execution_count": 5,
   "id": "fb8ea35f",
   "metadata": {},
   "outputs": [],
   "source": [
    "def sum_first_three_values(df):\n",
    "    values_sum = sum(df['values'].iloc[:3])\n",
    "    print(f\"The sum of the firstthree values is : {values_sum}\")"
   ]
  },
  {
   "cell_type": "code",
   "execution_count": 7,
   "id": "b34d6352",
   "metadata": {},
   "outputs": [
    {
     "name": "stdout",
     "output_type": "stream",
     "text": [
      "The sum of the firstthree values is : 60\n"
     ]
    }
   ],
   "source": [
    "df = pd.DataFrame({'values':[10,20,30,40,50,]})\n",
    "sum_first_three_values(df)"
   ]
  },
  {
   "cell_type": "markdown",
   "id": "f4cfb401",
   "metadata": {},
   "source": [
    "# Q4. Given a Pandas DataFrame df with a column 'Text', write a Python function to create a new column 'Word_Count' that contains the number of words in each row of the 'Text' column."
   ]
  },
  {
   "cell_type": "code",
   "execution_count": 12,
   "id": "e83d4b82",
   "metadata": {},
   "outputs": [],
   "source": [
    "import pandas as pd\n",
    "\n",
    "def add_word_count_column(df):\n",
    "    df['Word_Count'] = df['Text'].apply(lambda x: len(str(x).split()))\n",
    "    return df\n"
   ]
  },
  {
   "cell_type": "code",
   "execution_count": 13,
   "id": "e1d99b5f",
   "metadata": {},
   "outputs": [
    {
     "name": "stdout",
     "output_type": "stream",
     "text": [
      "                        Text  Word_Count\n",
      "0  This is a sample sentence           5\n",
      "1   This is another sentence           4\n"
     ]
    }
   ],
   "source": [
    "df = pd.DataFrame({'Text': ['This is a sample sentence', 'This is another sentence']})\n",
    "\n",
    "df_with_word_count = add_word_count_column(df)\n",
    "\n",
    "print(df_with_word_count)"
   ]
  },
  {
   "cell_type": "markdown",
   "id": "17521007",
   "metadata": {},
   "source": [
    "# Q5. How are DataFrame.size() and DataFrame.shape() different?"
   ]
  },
  {
   "cell_type": "markdown",
   "id": "300db7c0",
   "metadata": {},
   "source": [
    "Both DataFrame.size() and DataFrame.shape() are methods in Pandas that can be used to get information about the size of a DataFrame, but they return different types of information.\n",
    "\n",
    "DataFrame.size() returns the total number of elements in the DataFrame, which is equal to the product of the number of rows and columns in the DataFrame. It does not take any arguments.\n",
    "\n",
    "DataFrame.shape() returns a tuple that contains the number of rows and columns in the DataFrame, respectively. It does not take any arguments."
   ]
  },
  {
   "cell_type": "code",
   "execution_count": 14,
   "id": "ac36febf",
   "metadata": {},
   "outputs": [
    {
     "name": "stdout",
     "output_type": "stream",
     "text": [
      "9\n",
      "(3, 3)\n"
     ]
    }
   ],
   "source": [
    "df = pd.DataFrame({'A' : [1,2,3,],'B':[4,5,6], 'C': [7,8,9]})\n",
    "\n",
    "print(df.size)\n",
    "print(df.shape)"
   ]
  },
  {
   "cell_type": "markdown",
   "id": "058cecc6",
   "metadata": {},
   "source": [
    "# Q6. Which function of pandas do we use to read an excel file?"
   ]
  },
  {
   "cell_type": "markdown",
   "id": "bcdde933",
   "metadata": {},
   "source": [
    "In Pandas, we use the read_excel() function to read an Excel file."
   ]
  },
  {
   "cell_type": "markdown",
   "id": "38f4d9c9",
   "metadata": {},
   "source": [
    "# Q7. You have a Pandas DataFrame df that contains a column named 'Email' that contains email addresses in the format 'username@domain.com'. Write a Python function that creates a new column 'Username' in df that contains only the username part of each email address.\n",
    "# The username is the part of the email address that appears before the '@' symbol. For example, if the email address is 'john.doe@example.com', the 'Username' column should contain 'john.doe'. Your function should extract the username from each email address and store it in the new 'Username' column."
   ]
  },
  {
   "cell_type": "code",
   "execution_count": 15,
   "id": "914f6ff1",
   "metadata": {},
   "outputs": [],
   "source": [
    "def extract_username(df):\n",
    "    df['Username'] = df['Email'].apply(lambda x: x.split('@')[0])\n",
    "    return df"
   ]
  },
  {
   "cell_type": "code",
   "execution_count": 17,
   "id": "841e0020",
   "metadata": {},
   "outputs": [
    {
     "name": "stdout",
     "output_type": "stream",
     "text": [
      "                  Email  Username\n",
      "0  john.doe@example.com  john.doe\n",
      "1  jane.doe@example.com  jane.doe\n"
     ]
    }
   ],
   "source": [
    "df = pd.DataFrame({'Email': ['john.doe@example.com', 'jane.doe@example.com']})\n",
    "\n",
    "df_with_username = extract_username(df)\n",
    "\n",
    "print(df_with_username)"
   ]
  },
  {
   "cell_type": "markdown",
   "id": "1f7c81c6",
   "metadata": {},
   "source": [
    "# Q8. You have a Pandas DataFrame df with columns 'A', 'B', and 'C'. Write a Python function that selectsall rows where the value in column 'A' is greater than 5 and the value in column 'B' is less than 10. The function should return a new DataFrame that contains only the selected rows.\n",
    "\n",
    "For example, if df contains the following values:\n",
    "\n",
    "A B C\n",
    "\n",
    "0 3 5 1\n",
    "\n",
    "1 8 2 7\n",
    "\n",
    "2 6 9 4\n",
    "\n",
    "3 2 3 5\n",
    "\n",
    "4 9 1 2\n",
    "\n",
    "Your function should select the following rows: A B C\n",
    "\n",
    "1 8 2 7\n",
    "\n",
    "4 9 1 2\n",
    "\n",
    "The function should return a new DataFrame that contains only the selected rows."
   ]
  },
  {
   "cell_type": "code",
   "execution_count": 18,
   "id": "726e0638",
   "metadata": {},
   "outputs": [],
   "source": [
    "import pandas as pd\n",
    "\n",
    "def select_rows(df):\n",
    "    selected_rows = df[(df['A'] > 5) & (df['B'] < 10)] \n",
    "    return selected_rows\n"
   ]
  },
  {
   "cell_type": "code",
   "execution_count": 19,
   "id": "1e35ce03",
   "metadata": {},
   "outputs": [
    {
     "name": "stdout",
     "output_type": "stream",
     "text": [
      "   A  B  C\n",
      "1  8  2  7\n",
      "2  6  9  4\n",
      "4  9  1  2\n"
     ]
    }
   ],
   "source": [
    "df = pd.DataFrame({'A': [3, 8, 6, 2, 9], 'B': [5, 2, 9, 3, 1], 'C': [1, 7, 4, 5, 2]})\n",
    "\n",
    "selected_rows_df = select_rows(df)\n",
    "\n",
    "print(selected_rows_df)\n"
   ]
  },
  {
   "cell_type": "markdown",
   "id": "c64e8adf",
   "metadata": {},
   "source": [
    "# Q9. Given a Pandas DataFrame df with a column 'Values', write a Python function to calculate the mean, median, and standard deviation of the values in the 'Values' column."
   ]
  },
  {
   "cell_type": "code",
   "execution_count": 20,
   "id": "76036361",
   "metadata": {},
   "outputs": [],
   "source": [
    "def calculate_stats(df):\n",
    "    values = df['Values'] \n",
    "    mean = values.mean() \n",
    "    median = values.median() \n",
    "    std_dev = values.std() \n",
    "    return mean, median, std_dev"
   ]
  },
  {
   "cell_type": "code",
   "execution_count": 21,
   "id": "a64feae5",
   "metadata": {},
   "outputs": [
    {
     "name": "stdout",
     "output_type": "stream",
     "text": [
      "Mean: 30.0\n",
      "Median: 30.0\n",
      "Standard Deviation: 15.811388300841896\n"
     ]
    }
   ],
   "source": [
    "df = pd.DataFrame({'Values': [10, 20, 30, 40, 50]})\n",
    "\n",
    "mean, median, std_dev = calculate_stats(df)\n",
    "\n",
    "print(f\"Mean: {mean}\")\n",
    "print(f\"Median: {median}\")\n",
    "print(f\"Standard Deviation: {std_dev}\")\n"
   ]
  },
  {
   "cell_type": "markdown",
   "id": "e44a9e55",
   "metadata": {},
   "source": [
    "# Q10. Given a Pandas DataFrame df with a column 'Sales' and a column 'Date', write a Python function to create a new column 'MovingAverage' that contains the moving average of the sales for the past 7 days for each row in the DataFrame. The moving average should be calculated using a window of size 7 and should include the current day."
   ]
  },
  {
   "cell_type": "code",
   "execution_count": 22,
   "id": "fda16670",
   "metadata": {},
   "outputs": [],
   "source": [
    "def moving_average(df):\n",
    "  \n",
    "    df = df.sort_values('Date')\n",
    "    \n",
    "    df['MovingAverage'] = df['Sales'].rolling(window=7, min_periods=1).mean()\n",
    "    return df"
   ]
  },
  {
   "cell_type": "code",
   "execution_count": 23,
   "id": "5039c8a1",
   "metadata": {},
   "outputs": [
    {
     "name": "stdout",
     "output_type": "stream",
     "text": [
      "         Date  Sales  MovingAverage\n",
      "0  2022-01-01     10           10.0\n",
      "1  2022-01-02     20           15.0\n",
      "2  2022-01-03     30           20.0\n",
      "3  2022-01-04     40           25.0\n",
      "4  2022-01-05     50           30.0\n",
      "5  2022-01-06     60           35.0\n",
      "6  2022-01-07     70           40.0\n",
      "7  2022-01-08     80           50.0\n",
      "8  2022-01-09     90           60.0\n",
      "9  2022-01-10    100           70.0\n"
     ]
    }
   ],
   "source": [
    "df = pd.DataFrame({\n",
    "    'Date': ['2022-01-01', '2022-01-02', '2022-01-03', '2022-01-04', '2022-01-05', '2022-01-06', '2022-01-07', '2022-01-08', '2022-01-09', '2022-01-10'],\n",
    "    'Sales': [10, 20, 30, 40, 50, 60, 70, 80, 90, 100]\n",
    "})\n",
    "\n",
    "df = moving_average(df)\n",
    "\n",
    "print(df)\n"
   ]
  },
  {
   "cell_type": "markdown",
   "id": "d5d3c318",
   "metadata": {},
   "source": [
    "# Q11. You have a Pandas DataFrame df with a column 'Date'. Write a Python function that creates a new column 'Weekday' in the DataFrame. The 'Weekday' column should contain the weekday name (e.g.Monday, Tuesday) corresponding to each date in the 'Date' column.\n",
    "\n",
    "For example, if df contains the following values:\n",
    "\n",
    "Date\n",
    "\n",
    "0 2023-01-01\n",
    "\n",
    "1 2023-01-02\n",
    "\n",
    "2 2023-01-03\n",
    "\n",
    "3 2023-01-04\n",
    "\n",
    "4 2023-01-05\n",
    "\n",
    "Your function should create the following DataFrame:\n",
    "\n",
    "Date Weekday\n",
    "\n",
    "0 2023-01-01 Sunday\n",
    "\n",
    "1 2023-01-02 Monday\n",
    "\n",
    "2 2023-01-03 Tuesday\n",
    "\n",
    "3 2023-01-04 Wednesday\n",
    "\n",
    "4 2023-01-05 Thursday\n",
    "\n",
    "The function should return the modified DataFrame."
   ]
  },
  {
   "cell_type": "code",
   "execution_count": 24,
   "id": "739e9133",
   "metadata": {},
   "outputs": [],
   "source": [
    "import pandas as pd\n",
    "\n",
    "def add_weekday_column(df):\n",
    "    \n",
    "    df['Date'] = pd.to_datetime(df['Date'])\n",
    "    \n",
    "    \n",
    "    df['Weekday'] = df['Date'].dt.weekday_name\n",
    "    \n",
    "    return df\n"
   ]
  },
  {
   "cell_type": "code",
   "execution_count": 25,
   "id": "d6b05394",
   "metadata": {},
   "outputs": [
    {
     "name": "stdout",
     "output_type": "stream",
     "text": [
      "        Date    Weekday\n",
      "0 2023-01-01     Sunday\n",
      "1 2023-01-02     Monday\n",
      "2 2023-01-03    Tuesday\n",
      "3 2023-01-04  Wednesday\n",
      "4 2023-01-05   Thursday\n"
     ]
    }
   ],
   "source": [
    "df = pd.DataFrame({'Date': ['2023-01-01', '2023-01-02', '2023-01-03', '2023-01-04', '2023-01-05']})\n",
    "\n",
    "\n",
    "df['Date'] = pd.to_datetime(df['Date'])\n",
    "\n",
    "\n",
    "df['Weekday'] = df['Date'].dt.day_name()\n",
    "\n",
    "\n",
    "print(df)"
   ]
  },
  {
   "cell_type": "code",
   "execution_count": null,
   "id": "c0abc3d5",
   "metadata": {},
   "outputs": [],
   "source": []
  }
 ],
 "metadata": {
  "kernelspec": {
   "display_name": "Python 3 (ipykernel)",
   "language": "python",
   "name": "python3"
  },
  "language_info": {
   "codemirror_mode": {
    "name": "ipython",
    "version": 3
   },
   "file_extension": ".py",
   "mimetype": "text/x-python",
   "name": "python",
   "nbconvert_exporter": "python",
   "pygments_lexer": "ipython3",
   "version": "3.10.4"
  }
 },
 "nbformat": 4,
 "nbformat_minor": 5
}
