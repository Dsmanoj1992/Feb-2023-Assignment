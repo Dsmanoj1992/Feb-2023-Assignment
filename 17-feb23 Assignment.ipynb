{
 "cells": [
  {
   "cell_type": "markdown",
   "id": "8e09a811-6c00-4c55-9999-088fa6f48452",
   "metadata": {},
   "source": [
    "# Q1. What is MongoDB? Explain non-relational databases in short. In which scenarios it is preferred to use MongoDB over SQL databases?"
   ]
  },
  {
   "cell_type": "markdown",
   "id": "7864c29c-3715-41ab-a348-f1213281729a",
   "metadata": {},
   "source": [
    "MongoDB is a popular document-oriented NoSQL database system that stores data in JSON-like documents. It is designed to be scalable, flexible, and fast. MongoDB uses dynamic schema to allow for easy and seamless changes to the data structure, and supports features such as ad-hoc querying, indexing, and replication.\n",
    "\n",
    "Non-relational databases, also known as NoSQL databases, are databases that do not use the traditional table-based relational data model. They instead use a variety of data models such as document-based, key-value, column-family, or graph databases. NoSQL databases are often used for handling large amounts of unstructured or semi-structured data, which can be challenging to model in a traditional relational database.\n",
    "\n",
    "MongoDB is often preferred over SQL databases in scenarios where data is unstructured or semi-structured, such as with web or mobile applications, social media, or real-time analytics. MongoDB’s dynamic schema allows for easy updates to the data model without needing to restructure the entire database. It is also designed to be highly scalable, with support for sharding and replication, making it an ideal choice for applications with rapidly growing data needs. Additionally, MongoDB’s document-based data model allows for efficient storage and retrieval of complex data structures such as arrays and nested documents. However, it is important to note that SQL databases may still be the better choice in scenarios where the data is well-structured and requires complex joins, or when transactional consistency is critical."
   ]
  },
  {
   "cell_type": "markdown",
   "id": "4db28eb1-27f3-4d48-86e1-70ebb6523e5e",
   "metadata": {},
   "source": [
    "# Q2. State and Explain the features of MongoDB."
   ]
  },
  {
   "cell_type": "markdown",
   "id": "36bcfd1c-1e90-4b5d-b9e3-445e7dc90443",
   "metadata": {},
   "source": [
    "Document-oriented storage: MongoDB stores data in flexible JSON-like documents, rather than using a traditional table-based relational data model. This makes it easier to store and access complex data structures.\n",
    "\n",
    "Dynamic schema: MongoDB's dynamic schema allows you to store data without having to first define a rigid data structure. This means that you can easily add or remove fields from a document, making it ideal for applications that require flexibility and agility.\n",
    "\n",
    "Querying and indexing: MongoDB supports a powerful query language that allows you to perform complex queries on your data. It also supports indexing, which can improve query performance by speeding up data retrieval.\n",
    "\n",
    "Replication and high availability: MongoDB supports replication, which allows you to create multiple copies of your data across different servers. This improves fault tolerance and can help ensure high availability.\n",
    "\n",
    "Horizontal scaling: MongoDB supports horizontal scaling through sharding, which allows you to distribute your data across multiple servers. This can help you scale your database as your application grows.\n",
    "\n",
    "Aggregation framework: MongoDB's aggregation framework allows you to perform complex data analysis and manipulation operations on your data, similar to SQL's GROUP BY clause.\n",
    "\n",
    "GridFS: MongoDB's GridFS allows you to store and retrieve large files, such as images and videos, as individual documents in your database. This can simplify your application architecture by allowing you to store all your data in a single database.\n",
    "\n",
    "Geospatial indexing: MongoDB supports geospatial indexing, which allows you to store and query geospatial data, such as points, lines, and polygons."
   ]
  },
  {
   "cell_type": "markdown",
   "id": "a1a5bff3-7fb3-4134-9a3a-768a490a07a3",
   "metadata": {},
   "source": [
    "# Q3. Write a code to connect MongoDB to Python. Also, create a database and a collection in MongoDB."
   ]
  },
  {
   "cell_type": "code",
   "execution_count": 2,
   "id": "417e9e70-7c29-4bae-8982-1e249d0771b9",
   "metadata": {},
   "outputs": [],
   "source": [
    "import pymongo\n",
    "client = pymongo.MongoClient(\"mongodb+srv://DSmanoj:<password>@cluster0.mftl5es.mongodb.net/?retryWrites=true&w=majority\")\n",
    "db = client.test\n"
   ]
  },
  {
   "cell_type": "code",
   "execution_count": 1,
   "id": "90f7d506-e573-4cc4-b9fa-ff929629a0ca",
   "metadata": {},
   "outputs": [
    {
     "name": "stdout",
     "output_type": "stream",
     "text": [
      "Collecting pymongo\n",
      "  Downloading pymongo-4.3.3-cp310-cp310-manylinux_2_17_x86_64.manylinux2014_x86_64.whl (492 kB)\n",
      "\u001b[2K     \u001b[90m━━━━━━━━━━━━━━━━━━━━━━━━━━━━━━━━━━━━━━━\u001b[0m \u001b[32m492.9/492.9 kB\u001b[0m \u001b[31m6.7 MB/s\u001b[0m eta \u001b[36m0:00:00\u001b[0m00:01\u001b[0m00:01\u001b[0m\n",
      "\u001b[?25hCollecting dnspython<3.0.0,>=1.16.0\n",
      "  Downloading dnspython-2.3.0-py3-none-any.whl (283 kB)\n",
      "\u001b[2K     \u001b[90m━━━━━━━━━━━━━━━━━━━━━━━━━━━━━━━━━━━━━━\u001b[0m \u001b[32m283.7/283.7 kB\u001b[0m \u001b[31m37.6 MB/s\u001b[0m eta \u001b[36m0:00:00\u001b[0m\n",
      "\u001b[?25hInstalling collected packages: dnspython, pymongo\n",
      "Successfully installed dnspython-2.3.0 pymongo-4.3.3\n",
      "Note: you may need to restart the kernel to use updated packages.\n"
     ]
    }
   ],
   "source": [
    "pip install pymongo"
   ]
  },
  {
   "cell_type": "code",
   "execution_count": 3,
   "id": "65fa635a-e0d7-4560-81a2-1b955b887ea7",
   "metadata": {},
   "outputs": [
    {
     "data": {
      "text/plain": [
       "Database(MongoClient(host=['ac-myutgeo-shard-00-01.mftl5es.mongodb.net:27017', 'ac-myutgeo-shard-00-02.mftl5es.mongodb.net:27017', 'ac-myutgeo-shard-00-00.mftl5es.mongodb.net:27017'], document_class=dict, tz_aware=False, connect=True, retrywrites=True, w='majority', authsource='admin', replicaset='atlas-zldaz3-shard-0', tls=True), 'test')"
      ]
     },
     "execution_count": 3,
     "metadata": {},
     "output_type": "execute_result"
    }
   ],
   "source": [
    "db"
   ]
  },
  {
   "cell_type": "code",
   "execution_count": 4,
   "id": "aedb9ac1-8771-4252-bd7e-9b3ee6304dc5",
   "metadata": {},
   "outputs": [],
   "source": [
    "client = pymongo.MongoClient(\"mongodb+srv://DSmanoj:@cluster0.mftl5es.mongodb.net/?retryWrites=true&w=majority\")"
   ]
  },
  {
   "cell_type": "code",
   "execution_count": 6,
   "id": "15103180-07fd-44b2-bd4a-373e51becb18",
   "metadata": {},
   "outputs": [],
   "source": [
    "db = client['saledata']"
   ]
  },
  {
   "cell_type": "code",
   "execution_count": 9,
   "id": "156d02b2-2eea-452a-a698-8f006f97da08",
   "metadata": {},
   "outputs": [],
   "source": [
    "data = {\"brand name\" : \"one8\" ,\n",
    "        \"product type\" : \"brife\" ,\n",
    "        \"color\" : \"seagreen\"}"
   ]
  },
  {
   "cell_type": "code",
   "execution_count": 10,
   "id": "b97d354c-dc74-4aa9-90ed-a24c60c7497a",
   "metadata": {},
   "outputs": [],
   "source": [
    "coll_saledata = db[\"prduct_record\"]"
   ]
  },
  {
   "cell_type": "code",
   "execution_count": 11,
   "id": "9ac6934a-9f68-4538-9f9a-0ec505704cce",
   "metadata": {},
   "outputs": [
    {
     "data": {
      "text/plain": [
       "<pymongo.results.InsertOneResult at 0x7f5740ddcaf0>"
      ]
     },
     "execution_count": 11,
     "metadata": {},
     "output_type": "execute_result"
    }
   ],
   "source": [
    "coll_saledata.insert_one(data)"
   ]
  },
  {
   "cell_type": "markdown",
   "id": "8faf01d3-31ee-40aa-b9c0-a2ec03d0c768",
   "metadata": {},
   "source": [
    "# Q4. Using the database and the collection created in question number 3, write a code to insert one record,and insert many records. Use the find() and find_one() methods to print the inserted record."
   ]
  },
  {
   "cell_type": "code",
   "execution_count": 12,
   "id": "e59d9e71-53f1-482e-9306-1ee8b22c6516",
   "metadata": {},
   "outputs": [],
   "source": [
    "data1 = {\"manufacture by\" : \"LUXCOZY\" ,\n",
    "         \"sale platfrom\" : \"online\" , \n",
    "         \"style\" : 101,\n",
    "}\n",
    "         "
   ]
  },
  {
   "cell_type": "code",
   "execution_count": 13,
   "id": "e4187d61-2a23-4673-95cd-4b3cffe72198",
   "metadata": {},
   "outputs": [
    {
     "data": {
      "text/plain": [
       "<pymongo.results.InsertOneResult at 0x7f575b969ae0>"
      ]
     },
     "execution_count": 13,
     "metadata": {},
     "output_type": "execute_result"
    }
   ],
   "source": [
    "coll_saledata.insert_one(data1)"
   ]
  },
  {
   "cell_type": "code",
   "execution_count": 14,
   "id": "3ff0d0c0-07a6-4d13-8f27-9cd5ed354425",
   "metadata": {},
   "outputs": [
    {
     "data": {
      "text/plain": [
       "{'_id': ObjectId('640e844604e611368e181c5d'),\n",
       " 'brand name': 'one8',\n",
       " 'product type': 'brife',\n",
       " 'color': 'seagreen'}"
      ]
     },
     "execution_count": 14,
     "metadata": {},
     "output_type": "execute_result"
    }
   ],
   "source": [
    "coll_saledata.find_one()"
   ]
  },
  {
   "cell_type": "code",
   "execution_count": 15,
   "id": "dcf5fd6d-8675-4450-8d25-4be930c9442a",
   "metadata": {},
   "outputs": [
    {
     "data": {
      "text/plain": [
       "<pymongo.results.UpdateResult at 0x7f5740dddb10>"
      ]
     },
     "execution_count": 15,
     "metadata": {},
     "output_type": "execute_result"
    }
   ],
   "source": [
    "coll_saledata.update_many({'sale platfrom' : 'online'} , {\"$set\" : {'sale platfrom' : 'amazon' }})"
   ]
  },
  {
   "cell_type": "code",
   "execution_count": 16,
   "id": "45daba77-213a-4665-95b9-ff1aa9ebd59d",
   "metadata": {},
   "outputs": [
    {
     "name": "stdout",
     "output_type": "stream",
     "text": [
      "{'_id': ObjectId('640e844604e611368e181c5d'), 'brand name': 'one8', 'product type': 'brife', 'color': 'seagreen'}\n",
      "{'_id': ObjectId('640e864704e611368e181c5e'), 'manufacture by': 'LUXCOZY', 'sale platfrom': 'amazon', 'style': 101}\n",
      "{'_id': ObjectId('640f429e75b3b35651ced672'), 'brand name': 'one8', 'product type': 'brife', 'color': 'seagreen'}\n",
      "{'_id': ObjectId('640f42bd75b3b35651ced673'), 'manufacture by': 'LUXCOZY', 'sale platfrom': 'amazon', 'style': 101}\n"
     ]
    }
   ],
   "source": [
    "for i in coll_saledata.find():\n",
    "    print(i)"
   ]
  },
  {
   "cell_type": "markdown",
   "id": "94dc0f90-d17b-4947-82f2-a831d851985d",
   "metadata": {},
   "source": [
    "# Q5. Explain how you can use the find() method to query the MongoDB database. Write a simple code to demonstrate this."
   ]
  },
  {
   "cell_type": "markdown",
   "id": "c7e5060e-c8dc-4064-85b3-9b8f2d6e37da",
   "metadata": {},
   "source": [
    "The find() method is used to retrieve data from a MongoDB database. It returns a cursor object that can be iterated through to access the individual documents. The find() method takes a query object as its parameter, which spbecifies the selection criteria for the documents to be retrieved."
   ]
  },
  {
   "cell_type": "code",
   "execution_count": null,
   "id": "95832b7d-a8dc-4614-9c14-c635f559b4d5",
   "metadata": {},
   "outputs": [],
   "source": [
    "client = pymongo.MongoClient(\"mongodb+srv://DSmanoj:@cluster0.mftl5es.mongodb.net/?retryWrites=true&w=majority\")"
   ]
  },
  {
   "cell_type": "code",
   "execution_count": null,
   "id": "f31241a4-ec5e-41bb-bfe4-5365ccca0a77",
   "metadata": {},
   "outputs": [],
   "source": [
    "## connect to the MongoDB server\n",
    "db = client['CXDATA']"
   ]
  },
  {
   "cell_type": "code",
   "execution_count": 38,
   "id": "dc200f58-7f9d-4d5a-a412-5d1d6857960d",
   "metadata": {},
   "outputs": [],
   "source": [
    "# create a query object\n",
    "data2 = {\"customer name\" : \"manoj pandey\" ,\n",
    "        \"cx type\" : \"prepaid\" ,\n",
    "        \"No of A/c\" : \"one\"}"
   ]
  },
  {
   "cell_type": "code",
   "execution_count": 41,
   "id": "2a0dfa71-2466-446b-b3f6-9f57be3d002b",
   "metadata": {},
   "outputs": [],
   "source": [
    "# select the database and collection\n",
    "coll_CXDATA = ['Customr_Record']"
   ]
  },
  {
   "cell_type": "code",
   "execution_count": 42,
   "id": "53300b1f-04c0-429e-a3fb-f8aa1e352ad3",
   "metadata": {},
   "outputs": [],
   "source": [
    "coll_CXDATA = db[\"Customer_Recorde\"]"
   ]
  },
  {
   "cell_type": "code",
   "execution_count": 43,
   "id": "051525c5-85eb-4e1c-b30b-d1e760b03743",
   "metadata": {},
   "outputs": [
    {
     "data": {
      "text/plain": [
       "<pymongo.results.InsertOneResult at 0x7f574042d5d0>"
      ]
     },
     "execution_count": 43,
     "metadata": {},
     "output_type": "execute_result"
    }
   ],
   "source": [
    "coll_CXDATA.insert_one(data2)"
   ]
  },
  {
   "cell_type": "code",
   "execution_count": 45,
   "id": "d954f0c0-3dfa-4d1b-8cb6-89feb8f4323e",
   "metadata": {},
   "outputs": [
    {
     "data": {
      "text/plain": [
       "{'_id': ObjectId('640f498875b3b35651ced675'),\n",
       " 'customer name': 'manoj pandey',\n",
       " 'cx type': 'prepaid',\n",
       " 'No of A/c': 'one'}"
      ]
     },
     "execution_count": 45,
     "metadata": {},
     "output_type": "execute_result"
    }
   ],
   "source": [
    "# retrieve documents that match the query\n",
    "coll_CXDATA.find_one()"
   ]
  },
  {
   "cell_type": "markdown",
   "id": "a9f0b178-3453-4a2e-a383-3a35ec828f3e",
   "metadata": {},
   "source": [
    "# Q6. Explain the sort() method. Give an example to demonstrate sorting in MongoDB."
   ]
  },
  {
   "cell_type": "markdown",
   "id": "8ca465ad-4f42-4ffb-8d59-bc32e8d6e0e4",
   "metadata": {},
   "source": [
    "The sort() method in MongoDB is used to sort the results of a query based on one or more fields in the documents. It takes one or more arguments that specify the fields to sort on and the direction of the sorting.\n",
    "\n",
    "The sort() method can be used with the find() method to retrieve sorted documents. "
   ]
  },
  {
   "cell_type": "code",
   "execution_count": 5,
   "id": "47e5d286-a280-42b2-91df-44da4ee26432",
   "metadata": {},
   "outputs": [],
   "source": [
    "db = client['mydb']"
   ]
  },
  {
   "cell_type": "code",
   "execution_count": 6,
   "id": "73167c52-7fa9-4673-a340-56bf09bfde43",
   "metadata": {},
   "outputs": [
    {
     "data": {
      "text/plain": [
       "{'title': '1984', 'author': 'George Orwell', 'year': 1949, 'rating': 4.6}"
      ]
     },
     "execution_count": 6,
     "metadata": {},
     "output_type": "execute_result"
    }
   ],
   "source": [
    "data3 = {\n",
    "   \"title\": \"The Great Gatsby\",\n",
    "   \"author\": \"F. Scott Fitzgerald\",\n",
    "   \"year\": 1925,\n",
    "   \"rating\": 4.5\n",
    "},\n",
    "{\n",
    "   \"title\": \"To Kill a Mockingbird\",\n",
    "   \"author\": \"Harper Lee\",\n",
    "   \"year\": 1960,\n",
    "   \"rating\": 4.9\n",
    "},\n",
    "{\n",
    "   \"title\": \"1984\",\n",
    "   \"author\": \"George Orwell\",\n",
    "   \"year\": 1949,\n",
    "   \"rating\": 4.6\n",
    "}\n",
    "\n"
   ]
  },
  {
   "cell_type": "code",
   "execution_count": 7,
   "id": "6f9dbe0e-5ac0-46ad-844f-26e0c93708bb",
   "metadata": {},
   "outputs": [],
   "source": [
    "collection = db['books']"
   ]
  },
  {
   "cell_type": "code",
   "execution_count": 10,
   "id": "cc0c953f-19d2-4742-95b3-f8dbf09ee43a",
   "metadata": {},
   "outputs": [
    {
     "ename": "NameError",
     "evalue": "name 'coll_mydb' is not defined",
     "output_type": "error",
     "traceback": [
      "\u001b[0;31m---------------------------------------------------------------------------\u001b[0m",
      "\u001b[0;31mNameError\u001b[0m                                 Traceback (most recent call last)",
      "Cell \u001b[0;32mIn[10], line 1\u001b[0m\n\u001b[0;32m----> 1\u001b[0m \u001b[43mcoll_mydb\u001b[49m\u001b[38;5;241m.\u001b[39minsert\u001b[38;5;241m.\u001b[39mone(data3)\n",
      "\u001b[0;31mNameError\u001b[0m: name 'coll_mydb' is not defined"
     ]
    }
   ],
   "source": [
    "coll_mydb.insert.one(data3)"
   ]
  },
  {
   "cell_type": "code",
   "execution_count": 8,
   "id": "0d9afc70-6de7-4bde-8c5a-ed08978800b4",
   "metadata": {},
   "outputs": [],
   "source": [
    "cursor = collection.find().sort(\"year\", 1)"
   ]
  },
  {
   "cell_type": "code",
   "execution_count": 9,
   "id": "a87f4eb5-cf0f-4a6c-b25e-0288e9bf9add",
   "metadata": {},
   "outputs": [],
   "source": [
    "for document in cursor:\n",
    "    print(document)"
   ]
  },
  {
   "cell_type": "code",
   "execution_count": null,
   "id": "52a423d2-8c05-4727-ad7f-298c7f336b7b",
   "metadata": {},
   "outputs": [],
   "source": []
  },
  {
   "cell_type": "markdown",
   "id": "7c01f399-28d2-46e0-a197-92856ecfa695",
   "metadata": {},
   "source": [
    "# Q7. Explain why delete_one(), delete_many(), and drop() is used."
   ]
  },
  {
   "cell_type": "markdown",
   "id": "e8fe708a-fdd0-46f2-9ff4-7021a6a69f45",
   "metadata": {},
   "source": [
    "In MongoDB, there are three different methods that can be used to remove documents from a collection: delete_one(), delete_many(), and drop(). Each of these methods is used for different scenarios"
   ]
  },
  {
   "cell_type": "markdown",
   "id": "86a238db-c04f-4747-b979-02247a8805ee",
   "metadata": {},
   "source": [
    "delete_one() - This method is used to remove a single document from a collection that matches a specific filter criteria. It takes a dictionary as its parameter, where each key represents a field to match and its value is the value to match against. If there are multiple documents that match the filter criteria, delete_one() will remove only the first one it encounters.\n",
    "\n",
    "delete_one(): Suppose we have a collection of users, and we want to delete a specific user with the username \"john123\". We can use delete_one() method to delete this user from the collection."
   ]
  },
  {
   "cell_type": "markdown",
   "id": "493baf12-7ea6-4929-88fc-9abbd9346d38",
   "metadata": {},
   "source": [
    "delete_many() - This method is used to remove multiple documents from a collection that match a specific filter criteria. It takes a dictionary as its parameter, where each key represents a field to match and its value is the value to match against. Unlike delete_one(), delete_many() will remove all the documents that match the filter criteria.\n",
    "\n",
    "delete_many(): Suppose we have a collection of books, and we want to delete all the books published before the year 2000. We can use the delete_many() method to delete all the books that match this criteria."
   ]
  },
  {
   "cell_type": "markdown",
   "id": "771614db-8d31-4c8c-803c-57429fe869e0",
   "metadata": {},
   "source": [
    "drop() - This method is used to drop an entire collection from a database. It does not take any parameters and removes all documents in the collection.\n",
    "\n",
    "drop(): Suppose we have a collection of test data that we no longer need. We can use the drop() method to drop the entire collection from the database."
   ]
  },
  {
   "cell_type": "code",
   "execution_count": null,
   "id": "64f94a62-e0f2-491f-998b-58f31a2bcf09",
   "metadata": {},
   "outputs": [],
   "source": []
  }
 ],
 "metadata": {
  "kernelspec": {
   "display_name": "Python 3 (ipykernel)",
   "language": "python",
   "name": "python3"
  },
  "language_info": {
   "codemirror_mode": {
    "name": "ipython",
    "version": 3
   },
   "file_extension": ".py",
   "mimetype": "text/x-python",
   "name": "python",
   "nbconvert_exporter": "python",
   "pygments_lexer": "ipython3",
   "version": "3.10.4"
  }
 },
 "nbformat": 4,
 "nbformat_minor": 5
}
