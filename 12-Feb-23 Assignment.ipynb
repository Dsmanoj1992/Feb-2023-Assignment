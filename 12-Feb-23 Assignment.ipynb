{
 "cells": [
  {
   "cell_type": "markdown",
   "id": "a9360f50",
   "metadata": {},
   "source": [
    "# Q1. What is an Exception in python? Write the difference between Exceptions and Syntax errors."
   ]
  },
  {
   "cell_type": "markdown",
   "id": "13130e27",
   "metadata": {},
   "source": [
    "# A.1\n",
    "An Exception in Python is an error that occurs during the execution of a Python program. It is an indication that something unexpected or abnormal has occurred, and the normal flow of the program cannot continue.\n",
    "\n",
    "Python provides a mechanism for detecting and handling exceptions through the use of try-except blocks. When an exception is encountered during the execution of a try block, the control is immediately transferred to the corresponding except block that handles the exception.\n",
    "\n",
    "The exception can be caused by a variety of reasons such as invalid inputs, unexpected behavior, errors in the code, network problems, file access errors, etc. There are many built-in exception types in Python, such as ValueError, TypeError, NameError, ZeroDivisionError, FileNotFoundError, and many more.\n",
    "\n",
    "In addition to the built-in exceptions, you can also create your own custom exceptions by defining a new class that inherits from the Exception class. This allows you to create specific exception types that are relevant to your program and provide more detailed information about the error.\n",
    "\n",
    "Handling exceptions properly is an important part of writing robust and error-free Python code. By handling exceptions, you can prevent your program from crashing unexpectedly and provide meaningful error messages to the user."
   ]
  },
  {
   "cell_type": "markdown",
   "id": "a92a03c1",
   "metadata": {},
   "source": [
    "# A.2\n",
    "Exceptions and Syntax errors are both types of errors that can occur in a Python program, but they differ in several ways.\n",
    "\n",
    "Cause: A Syntax error occurs when the Python interpreter detects a mistake in the syntax of the program. For example, if you forget to close a parenthesis or use an incorrect keyword, the interpreter will raise a Syntax error. On the other hand, Exceptions occur during the runtime of the program, when something unexpected happens that causes the program to terminate abruptly.\n",
    "\n",
    "Detection: Syntax errors are detected by the Python interpreter before the program starts running. In contrast, Exceptions are detected during the execution of the program.\n",
    "\n",
    "Handling: Syntax errors can be fixed by correcting the syntax mistake in the program. Exceptions, on the other hand, are handled by catching them with try-except blocks and handling them appropriately.\n",
    "\n",
    "Types: Syntax errors are limited to errors in the syntax of the program, while Exceptions can occur due to a wide range of reasons, such as invalid inputs, network problems, file access errors, and so on."
   ]
  },
  {
   "cell_type": "markdown",
   "id": "f069f79c",
   "metadata": {},
   "source": [
    "# Q2. What happend when an exception is not handled? Explain with an example."
   ]
  },
  {
   "cell_type": "markdown",
   "id": "289e00dc",
   "metadata": {},
   "source": [
    "# A.1\n",
    "When an exception is not handled, the program execution will terminate and an error message will be displayed to the user. This is because the program does not know how to recover from the error and cannot continue running."
   ]
  },
  {
   "cell_type": "code",
   "execution_count": 1,
   "id": "703eab7b",
   "metadata": {},
   "outputs": [
    {
     "ename": "ZeroDivisionError",
     "evalue": "division by zero",
     "output_type": "error",
     "traceback": [
      "\u001b[1;31m---------------------------------------------------------------------------\u001b[0m",
      "\u001b[1;31mZeroDivisionError\u001b[0m                         Traceback (most recent call last)",
      "\u001b[1;32m~\\AppData\\Local\\Temp/ipykernel_3580/1200616921.py\u001b[0m in \u001b[0;36m<module>\u001b[1;34m\u001b[0m\n\u001b[0;32m      2\u001b[0m \u001b[0mnumerator\u001b[0m \u001b[1;33m=\u001b[0m \u001b[1;36m10\u001b[0m\u001b[1;33m\u001b[0m\u001b[1;33m\u001b[0m\u001b[0m\n\u001b[0;32m      3\u001b[0m \u001b[0mdenominator\u001b[0m \u001b[1;33m=\u001b[0m \u001b[1;36m0\u001b[0m\u001b[1;33m\u001b[0m\u001b[1;33m\u001b[0m\u001b[0m\n\u001b[1;32m----> 4\u001b[1;33m \u001b[0mresult\u001b[0m \u001b[1;33m=\u001b[0m \u001b[0mnumerator\u001b[0m \u001b[1;33m/\u001b[0m \u001b[0mdenominator\u001b[0m\u001b[1;33m\u001b[0m\u001b[1;33m\u001b[0m\u001b[0m\n\u001b[0m\u001b[0;32m      5\u001b[0m \u001b[0mprint\u001b[0m\u001b[1;33m(\u001b[0m\u001b[0mresult\u001b[0m\u001b[1;33m)\u001b[0m\u001b[1;33m\u001b[0m\u001b[1;33m\u001b[0m\u001b[0m\n",
      "\u001b[1;31mZeroDivisionError\u001b[0m: division by zero"
     ]
    }
   ],
   "source": [
    "# Divide by zero error example\n",
    "numerator = 10\n",
    "denominator = 0\n",
    "result = numerator / denominator\n",
    "print(result)\n"
   ]
  },
  {
   "cell_type": "markdown",
   "id": "9a09ced1",
   "metadata": {},
   "source": [
    "# \n",
    "In this example, we are trying to divide numerator by denominator, but denominator is set to 0. This will raise a ZeroDivisionError exception because you cannot divide by zero.\n",
    "\n",
    "If the exception is not handled, the program will terminate with the following error message"
   ]
  },
  {
   "cell_type": "markdown",
   "id": "0eecd059",
   "metadata": {},
   "source": [
    "# Q3. Which Python statement are used to catch and handel exception? Explain with an example."
   ]
  },
  {
   "cell_type": "markdown",
   "id": "4c468a68",
   "metadata": {},
   "source": [
    "In Python, the try and except statements are used to catch and handle exceptions.\n",
    "\n",
    "The basic syntax for using try and except statements is as follows:"
   ]
  },
  {
   "cell_type": "markdown",
   "id": "17d8d84d",
   "metadata": {},
   "source": [
    "try:\n",
    "    # block of code that may raise an exception\n",
    "except ExceptionType:\n",
    "    # block of code to handle the exception\n"
   ]
  },
  {
   "cell_type": "markdown",
   "id": "c2cdb647",
   "metadata": {},
   "source": [
    "# \n",
    "Here, we place the code that may raise an exception in the try block, and the code that handles the exception in the except block. When an exception is raised within the try block, Python will look for an except block that can handle that particular type of exception.\n",
    "\n",
    "Here's an example:"
   ]
  },
  {
   "cell_type": "code",
   "execution_count": 4,
   "id": "65f8455e",
   "metadata": {},
   "outputs": [
    {
     "name": "stdout",
     "output_type": "stream",
     "text": [
      "Error: Cannot divide by zero.\n"
     ]
    }
   ],
   "source": [
    "# Divide by zero error example with try/except statements\n",
    "numerator = 10\n",
    "denominator = 0\n",
    "\n",
    "try:\n",
    "    result = numerator / denominator\n",
    "    print(result)\n",
    "except ZeroDivisionError:\n",
    "    print(\"Error: Cannot divide by zero.\")\n"
   ]
  },
  {
   "cell_type": "markdown",
   "id": "5ce90264",
   "metadata": {},
   "source": [
    "# Q4. Explain with an example:\n",
    "\n",
    "a. try and else\n",
    "\n",
    "b. finally\n",
    "\n",
    "c. raise"
   ]
  },
  {
   "cell_type": "markdown",
   "id": "bd95dd12",
   "metadata": {},
   "source": [
    "# a. try and else:\n",
    "\n",
    "In Python, the else statement can be used in conjunction with the try statement to specify a block of code to execute if no exception is raised. The basic syntax is as follows:\n",
    "\n",
    "try:\n",
    "    \n",
    "    # block of code that may raise an exception\n",
    "\n",
    "except ExceptionType:\n",
    "   \n",
    "    block of code to handle the exception\n",
    "\n",
    "else:\n",
    "    # block of code to execute if no exception is raised\n"
   ]
  },
  {
   "cell_type": "code",
   "execution_count": 6,
   "id": "cc7d7316",
   "metadata": {},
   "outputs": [
    {
     "name": "stdout",
     "output_type": "stream",
     "text": [
      "Enter a number: 7\n",
      "Enter another number: 4\n",
      "The result is: 1.75\n"
     ]
    }
   ],
   "source": [
    "# Example of try and else statement\n",
    "try:\n",
    "    num1 = int(input(\"Enter a number: \"))\n",
    "    num2 = int(input(\"Enter another number: \"))\n",
    "    result = num1 / num2\n",
    "except ZeroDivisionError:\n",
    "    print(\"Error: Cannot divide by zero.\")\n",
    "else:\n",
    "    print(\"The result is:\", result)\n"
   ]
  },
  {
   "cell_type": "markdown",
   "id": "970eada4",
   "metadata": {},
   "source": [
    "In this example, we ask the user to input two numbers and try to divide them. If the user enters 0 for num2, a ZeroDivisionError is raised and handled by the except block. If no exception is raised, the code in the else block is executed, which prints the result of the division."
   ]
  },
  {
   "cell_type": "markdown",
   "id": "6bd223bd",
   "metadata": {},
   "source": [
    "# b. finally:\n",
    "\n",
    "In Python, the finally statement can be used in conjunction with the try statement to specify a block of code to execute whether an exception is raised or not. The basic syntax is as follows:\n",
    "\n",
    "\n",
    "\n",
    "try:\n",
    "   \n",
    "   # block of code that may raise an exception\n",
    "\n",
    "except ExceptionType:\n",
    "   \n",
    "   # block of code to handle the exception\n",
    "\n",
    "finally:\n",
    "   \n",
    "   # block of code to execute whether an exception is raised or not\n"
   ]
  },
  {
   "cell_type": "code",
   "execution_count": 7,
   "id": "9a3cbf23",
   "metadata": {},
   "outputs": [
    {
     "name": "stdout",
     "output_type": "stream",
     "text": [
      "Error: File not found.\n"
     ]
    },
    {
     "ename": "NameError",
     "evalue": "name 'file' is not defined",
     "output_type": "error",
     "traceback": [
      "\u001b[1;31m---------------------------------------------------------------------------\u001b[0m",
      "\u001b[1;31mNameError\u001b[0m                                 Traceback (most recent call last)",
      "\u001b[1;32m~\\AppData\\Local\\Temp/ipykernel_3580/2853322432.py\u001b[0m in \u001b[0;36m<module>\u001b[1;34m\u001b[0m\n\u001b[0;32m      7\u001b[0m     \u001b[0mprint\u001b[0m\u001b[1;33m(\u001b[0m\u001b[1;34m\"Error: File not found.\"\u001b[0m\u001b[1;33m)\u001b[0m\u001b[1;33m\u001b[0m\u001b[1;33m\u001b[0m\u001b[0m\n\u001b[0;32m      8\u001b[0m \u001b[1;32mfinally\u001b[0m\u001b[1;33m:\u001b[0m\u001b[1;33m\u001b[0m\u001b[1;33m\u001b[0m\u001b[0m\n\u001b[1;32m----> 9\u001b[1;33m     \u001b[0mfile\u001b[0m\u001b[1;33m.\u001b[0m\u001b[0mclose\u001b[0m\u001b[1;33m(\u001b[0m\u001b[1;33m)\u001b[0m\u001b[1;33m\u001b[0m\u001b[1;33m\u001b[0m\u001b[0m\n\u001b[0m",
      "\u001b[1;31mNameError\u001b[0m: name 'file' is not defined"
     ]
    }
   ],
   "source": [
    "# Example of try and finally statement\n",
    "try:\n",
    "    file = open(\"example.txt\", \"r\")\n",
    "    contents = file.read()\n",
    "    print(contents)\n",
    "except FileNotFoundError:\n",
    "    print(\"Error: File not found.\")\n",
    "finally:\n",
    "    file.close()\n"
   ]
  },
  {
   "cell_type": "markdown",
   "id": "aa9139f1",
   "metadata": {},
   "source": [
    "# c. raise:\n",
    "In Python, the raise statement can be used to raise an exception manually. \n",
    "\n",
    "The basic syntax is as follows:"
   ]
  },
  {
   "cell_type": "markdown",
   "id": "19daa732",
   "metadata": {},
   "source": [
    "raise ExceptionType(\"Error message\")\n"
   ]
  },
  {
   "cell_type": "code",
   "execution_count": 9,
   "id": "d0ff7c72",
   "metadata": {},
   "outputs": [
    {
     "name": "stdout",
     "output_type": "stream",
     "text": [
      "5.0\n"
     ]
    },
    {
     "ename": "ZeroDivisionError",
     "evalue": "Error: Cannot divide by zero.",
     "output_type": "error",
     "traceback": [
      "\u001b[1;31m---------------------------------------------------------------------------\u001b[0m",
      "\u001b[1;31mZeroDivisionError\u001b[0m                         Traceback (most recent call last)",
      "\u001b[1;32m~\\AppData\\Local\\Temp/ipykernel_3580/2539867595.py\u001b[0m in \u001b[0;36m<module>\u001b[1;34m\u001b[0m\n\u001b[0;32m      9\u001b[0m \u001b[0mprint\u001b[0m\u001b[1;33m(\u001b[0m\u001b[0mresult1\u001b[0m\u001b[1;33m)\u001b[0m\u001b[1;33m\u001b[0m\u001b[1;33m\u001b[0m\u001b[0m\n\u001b[0;32m     10\u001b[0m \u001b[1;33m\u001b[0m\u001b[0m\n\u001b[1;32m---> 11\u001b[1;33m \u001b[0mresult2\u001b[0m \u001b[1;33m=\u001b[0m \u001b[0mdivide\u001b[0m\u001b[1;33m(\u001b[0m\u001b[1;36m10\u001b[0m\u001b[1;33m,\u001b[0m \u001b[1;36m0\u001b[0m\u001b[1;33m)\u001b[0m\u001b[1;33m\u001b[0m\u001b[1;33m\u001b[0m\u001b[0m\n\u001b[0m\u001b[0;32m     12\u001b[0m \u001b[0mprint\u001b[0m\u001b[1;33m(\u001b[0m\u001b[0mresult2\u001b[0m\u001b[1;33m)\u001b[0m\u001b[1;33m\u001b[0m\u001b[1;33m\u001b[0m\u001b[0m\n",
      "\u001b[1;32m~\\AppData\\Local\\Temp/ipykernel_3580/2539867595.py\u001b[0m in \u001b[0;36mdivide\u001b[1;34m(num1, num2)\u001b[0m\n\u001b[0;32m      2\u001b[0m \u001b[1;32mdef\u001b[0m \u001b[0mdivide\u001b[0m\u001b[1;33m(\u001b[0m\u001b[0mnum1\u001b[0m\u001b[1;33m,\u001b[0m \u001b[0mnum2\u001b[0m\u001b[1;33m)\u001b[0m\u001b[1;33m:\u001b[0m\u001b[1;33m\u001b[0m\u001b[1;33m\u001b[0m\u001b[0m\n\u001b[0;32m      3\u001b[0m     \u001b[1;32mif\u001b[0m \u001b[0mnum2\u001b[0m \u001b[1;33m==\u001b[0m \u001b[1;36m0\u001b[0m\u001b[1;33m:\u001b[0m\u001b[1;33m\u001b[0m\u001b[1;33m\u001b[0m\u001b[0m\n\u001b[1;32m----> 4\u001b[1;33m         \u001b[1;32mraise\u001b[0m \u001b[0mZeroDivisionError\u001b[0m\u001b[1;33m(\u001b[0m\u001b[1;34m\"Error: Cannot divide by zero.\"\u001b[0m\u001b[1;33m)\u001b[0m\u001b[1;33m\u001b[0m\u001b[1;33m\u001b[0m\u001b[0m\n\u001b[0m\u001b[0;32m      5\u001b[0m     \u001b[1;32melse\u001b[0m\u001b[1;33m:\u001b[0m\u001b[1;33m\u001b[0m\u001b[1;33m\u001b[0m\u001b[0m\n\u001b[0;32m      6\u001b[0m         \u001b[1;32mreturn\u001b[0m \u001b[0mnum1\u001b[0m \u001b[1;33m/\u001b[0m \u001b[0mnum2\u001b[0m\u001b[1;33m\u001b[0m\u001b[1;33m\u001b[0m\u001b[0m\n",
      "\u001b[1;31mZeroDivisionError\u001b[0m: Error: Cannot divide by zero."
     ]
    }
   ],
   "source": [
    "# Example of raising an exception\n",
    "def divide(num1, num2):\n",
    "    if num2 == 0:\n",
    "        raise ZeroDivisionError(\"Error: Cannot divide by zero.\")\n",
    "    else:\n",
    "        return num1 / num2\n",
    "\n",
    "result1 = divide(10, 2)\n",
    "print(result1)\n",
    "\n",
    "result2 = divide(10, 0)\n",
    "print(result2)\n"
   ]
  },
  {
   "cell_type": "markdown",
   "id": "ecebd0da",
   "metadata": {},
   "source": [
    "# \n",
    "In this example, we define a function divide that takes two numbers as input and returns their division. \n",
    "\n",
    "If the second number is 0, a ZeroDivisionError is raised manually using the raise statement. \n",
    "\n",
    "When the function is called with num2 = 0, the exception is raised and handled by the calling code."
   ]
  },
  {
   "cell_type": "markdown",
   "id": "f726ecce",
   "metadata": {},
   "source": [
    "# Q5. What are custom exception in python? Why do we need custom exception? explain with an example."
   ]
  },
  {
   "cell_type": "markdown",
   "id": "4ec42ef3",
   "metadata": {},
   "source": [
    "Custom exceptions in Python are user-defined exceptions that are created to handle specific errors that may occur in a program. \n",
    "\n",
    "They are defined using the class keyword and inherit from the built-in Exception class or any of its subclasses. Custom \n",
    "\n",
    "exceptions are useful when you need to handle specific types of errors that are not covered by the built-in exceptions.\n",
    "\n",
    "We need custom exceptions in Python to provide more specific and informative error messages for our code. They allow us to \n",
    "\n",
    "define our own error types and provide custom messages, making it easier to identify and fix problems in our code. They also \n",
    "\n",
    "help in making the code more readable and easier to maintain.\n"
   ]
  },
  {
   "cell_type": "code",
   "execution_count": 10,
   "id": "3ae19943",
   "metadata": {},
   "outputs": [
    {
     "name": "stdout",
     "output_type": "stream",
     "text": [
      "5.0\n",
      "Error: Cannot divide by zero.\n"
     ]
    }
   ],
   "source": [
    "# Example of a custom exception\n",
    "class InvalidInputError(Exception):\n",
    "    def __init__(self, message):\n",
    "        self.message = message\n",
    "\n",
    "def divide(num1, num2):\n",
    "    if num2 == 0:\n",
    "        raise InvalidInputError(\"Error: Cannot divide by zero.\")\n",
    "    else:\n",
    "        return num1 / num2\n",
    "\n",
    "try:\n",
    "    result1 = divide(10, 2)\n",
    "    print(result1)\n",
    "    \n",
    "    result2 = divide(10, 0)\n",
    "    print(result2)\n",
    "except InvalidInputError as error:\n",
    "    print(error.message)\n"
   ]
  },
  {
   "cell_type": "markdown",
   "id": "494128a5",
   "metadata": {},
   "source": [
    "In this example, we define a custom exception called InvalidInputError by creating a new class that inherits from the Exception \n",
    "\n",
    "class. We then define an __init__ method to set a custom error message.\n",
    "\n",
    "The divide function takes two numbers as input and returns their division. If the second number is 0, we raise an \n",
    "\n",
    "InvalidInputError exception with a custom message.\n",
    "\n",
    "\n",
    "We then call the divide function twice, once with num2 = 2 and once with num2 = 0. When the second call is made, an \n",
    "\n",
    "InvalidInputError exception is raised and caught by the except block that handles InvalidInputError. The custom error message \n",
    "\n",
    "\"Error: Cannot divide by zero.\" is then printed to the console.\n",
    "\n",
    "By defining and using a custom exception, we can provide more specific and informative error messages that help us identify and \n",
    "\n",
    "fix problems in our code."
   ]
  },
  {
   "cell_type": "markdown",
   "id": "ce6df7cb",
   "metadata": {},
   "source": [
    "# Q6. Create a custom exception class. use this class to handle an exception"
   ]
  },
  {
   "cell_type": "code",
   "execution_count": 11,
   "id": "76ea1d5e",
   "metadata": {},
   "outputs": [
    {
     "name": "stdout",
     "output_type": "stream",
     "text": [
      "5.0\n",
      "Error: Cannot divide by zero.\n"
     ]
    }
   ],
   "source": [
    "# Example of a custom exception\n",
    "class InvalidInputError(Exception):\n",
    "    def __init__(self, message):\n",
    "        self.message = message\n",
    "\n",
    "def divide(num1, num2):\n",
    "    if num2 == 0:\n",
    "        raise InvalidInputError(\"Error: Cannot divide by zero.\")\n",
    "    else:\n",
    "        return num1 / num2\n",
    "\n",
    "try:\n",
    "    result1 = divide(10, 2)\n",
    "    print(result1)\n",
    "    \n",
    "    result2 = divide(10, 0)\n",
    "    print(result2)\n",
    "except InvalidInputError as error:\n",
    "    print(error.message)\n"
   ]
  },
  {
   "cell_type": "code",
   "execution_count": null,
   "id": "87b37fbb",
   "metadata": {},
   "outputs": [],
   "source": []
  }
 ],
 "metadata": {
  "kernelspec": {
   "display_name": "Python 3 (ipykernel)",
   "language": "python",
   "name": "python3"
  },
  "language_info": {
   "codemirror_mode": {
    "name": "ipython",
    "version": 3
   },
   "file_extension": ".py",
   "mimetype": "text/x-python",
   "name": "python",
   "nbconvert_exporter": "python",
   "pygments_lexer": "ipython3",
   "version": "3.9.7"
  }
 },
 "nbformat": 4,
 "nbformat_minor": 5
}
