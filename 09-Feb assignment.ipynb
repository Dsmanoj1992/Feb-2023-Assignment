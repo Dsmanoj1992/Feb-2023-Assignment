{
 "cells": [
  {
   "cell_type": "markdown",
   "id": "bb8c5517",
   "metadata": {},
   "source": [
    "# \n",
    "Q1, Create a vehicle class with an init method having instance variables as name_of_vehicle, max_speed\n",
    "and average_of_vehicle."
   ]
  },
  {
   "cell_type": "code",
   "execution_count": 7,
   "id": "e34b70b1",
   "metadata": {},
   "outputs": [],
   "source": [
    "# A1.\n",
    "class vehicle:\n",
    "    def __init__(self, name_of_vehicle, max_speed, average_of_vehicle):\n",
    "        self.name_of_vehicle = name_of_vehicle\n",
    "        self.max_speed = max_speed\n",
    "        self.average_of_vehicle = average_of_vehicle"
   ]
  },
  {
   "cell_type": "code",
   "execution_count": 8,
   "id": "d9e4102a",
   "metadata": {},
   "outputs": [],
   "source": [
    "car = vehicle(\"Honda civic\", 120, 30)"
   ]
  },
  {
   "cell_type": "code",
   "execution_count": 9,
   "id": "db98dc50",
   "metadata": {},
   "outputs": [
    {
     "name": "stdout",
     "output_type": "stream",
     "text": [
      "Honda civic\n"
     ]
    }
   ],
   "source": [
    "print(car.name_of_vehicle)"
   ]
  },
  {
   "cell_type": "code",
   "execution_count": 11,
   "id": "a8b789f9",
   "metadata": {},
   "outputs": [
    {
     "name": "stdout",
     "output_type": "stream",
     "text": [
      "120\n"
     ]
    }
   ],
   "source": [
    "print(car.max_speed)"
   ]
  },
  {
   "cell_type": "code",
   "execution_count": 12,
   "id": "8472a7cb",
   "metadata": {},
   "outputs": [
    {
     "name": "stdout",
     "output_type": "stream",
     "text": [
      "30\n"
     ]
    }
   ],
   "source": [
    "print(car.average_of_vehicle)"
   ]
  },
  {
   "cell_type": "markdown",
   "id": "ac294928",
   "metadata": {},
   "source": [
    "# \n",
    "Q2. Create a child class car from the vehicle class created in Que 1, which will inherit the vehicle class.\n",
    "Create a method named seating_capacity which takes capacity as an argument and returns the name of\n",
    "the vehicle and its seating capacity."
   ]
  },
  {
   "cell_type": "code",
   "execution_count": 13,
   "id": "480b6b3b",
   "metadata": {},
   "outputs": [],
   "source": [
    "# A2.\n",
    "class car(vehicle):\n",
    "    def seating_capacity(self, capacity):\n",
    "        return f\"{self.name_of_vehicle} has a seating capacity of {capacity} persons.\""
   ]
  },
  {
   "cell_type": "code",
   "execution_count": 17,
   "id": "7a512cdd",
   "metadata": {},
   "outputs": [],
   "source": [
    "car = car(\"honda civic\", 120 ,  30)"
   ]
  },
  {
   "cell_type": "code",
   "execution_count": 18,
   "id": "136abc54",
   "metadata": {},
   "outputs": [
    {
     "name": "stdout",
     "output_type": "stream",
     "text": [
      "honda civic\n"
     ]
    }
   ],
   "source": [
    "print(car.name_of_vehicle)"
   ]
  },
  {
   "cell_type": "code",
   "execution_count": 19,
   "id": "6c8435c6",
   "metadata": {},
   "outputs": [
    {
     "name": "stdout",
     "output_type": "stream",
     "text": [
      "120\n"
     ]
    }
   ],
   "source": [
    "print(car.max_speed)"
   ]
  },
  {
   "cell_type": "code",
   "execution_count": 20,
   "id": "c6d75d22",
   "metadata": {},
   "outputs": [
    {
     "name": "stdout",
     "output_type": "stream",
     "text": [
      "30\n"
     ]
    }
   ],
   "source": [
    "print(car.average_of_vehicle)"
   ]
  },
  {
   "cell_type": "code",
   "execution_count": 21,
   "id": "62ea6dc7",
   "metadata": {},
   "outputs": [
    {
     "name": "stdout",
     "output_type": "stream",
     "text": [
      "honda civic has a seating capacity of 5 persons.\n"
     ]
    }
   ],
   "source": [
    "print(car.seating_capacity(5))"
   ]
  },
  {
   "cell_type": "markdown",
   "id": "58faca77",
   "metadata": {},
   "source": [
    "# \n",
    "Q3. What is multiple inheritance? Write a python code to demonstrate multiple inheritance."
   ]
  },
  {
   "cell_type": "code",
   "execution_count": 7,
   "id": "2cc85c38",
   "metadata": {},
   "outputs": [],
   "source": [
    "class animal:\n",
    "    def __init__(self, name):\n",
    "        self.name = name\n",
    "    \n",
    "    def speak(self):\n",
    "        pass\n",
    "    \n",
    "class mammal(animal):\n",
    "    def __init__(self, name):\n",
    "        super().__init__(name)\n",
    "        \n",
    "        \n",
    "        \n",
    "    def run(self):\n",
    "        print(f\"{self.name} is running.\")\n",
    "        \n",
    "        \n",
    "class bird(animal):\n",
    "    def __init__(self, name):\n",
    "        super().__init__(name)\n",
    "        \n",
    "        \n",
    "    def fly(self):\n",
    "        print((f\"{self.name} is flying.\"))\n",
    "        \n",
    "class bat(mammal, bird):\n",
    "    def __init__(self, name):\n",
    "        super().__init__(name)\n",
    "        \n",
    "        \n",
    "    def speak(self):\n",
    "        print(f\"{self.name} is squeaking.\")"
   ]
  },
  {
   "cell_type": "code",
   "execution_count": 9,
   "id": "bb85651a",
   "metadata": {},
   "outputs": [],
   "source": [
    "        \n",
    "bat = bat(\"fruit bat\")"
   ]
  },
  {
   "cell_type": "code",
   "execution_count": 10,
   "id": "39e012f4",
   "metadata": {},
   "outputs": [
    {
     "name": "stdout",
     "output_type": "stream",
     "text": [
      "fruit bat is running.\n"
     ]
    }
   ],
   "source": [
    "bat.run()"
   ]
  },
  {
   "cell_type": "code",
   "execution_count": 5,
   "id": "0c543d65",
   "metadata": {},
   "outputs": [
    {
     "name": "stdout",
     "output_type": "stream",
     "text": [
      "fruit bat is flying.\n"
     ]
    }
   ],
   "source": [
    "bat.fly()"
   ]
  },
  {
   "cell_type": "code",
   "execution_count": 6,
   "id": "86741fc6",
   "metadata": {},
   "outputs": [
    {
     "name": "stdout",
     "output_type": "stream",
     "text": [
      "fruit bat is squeaking.\n"
     ]
    }
   ],
   "source": [
    "bat.speak()"
   ]
  },
  {
   "cell_type": "markdown",
   "id": "37c7e45e",
   "metadata": {},
   "source": [
    "# \n",
    "Q4. What are getter and setter in python? Create a class and create a getter and a setter method in this\n",
    "class."
   ]
  },
  {
   "cell_type": "markdown",
   "id": "d4446c66",
   "metadata": {},
   "source": [
    "Getter and setter methods are used in object-oriented programming to access and modify the attributes of an object, respectively. In Python, they are implemented as instance methods of a class, and their names typically follow the convention of get_<attribute> and set_<attribute>."
   ]
  },
  {
   "cell_type": "code",
   "execution_count": 10,
   "id": "74434f54",
   "metadata": {},
   "outputs": [],
   "source": [
    "class Person:\n",
    "    def __init__(self, name, age):\n",
    "        self._name = name\n",
    "        self._age = age\n",
    "\n",
    "    def get_name(self):\n",
    "        return self._name\n",
    "\n",
    "    def set_name(self, name):\n",
    "        self._name = name\n",
    "\n",
    "    def get_age(self):\n",
    "        return self._age\n",
    "\n",
    "    def set_age(self, age):\n",
    "        self._age = age\n"
   ]
  },
  {
   "cell_type": "code",
   "execution_count": 11,
   "id": "a9a53d03",
   "metadata": {},
   "outputs": [],
   "source": [
    "person = Person(\"John\", 30)"
   ]
  },
  {
   "cell_type": "code",
   "execution_count": 12,
   "id": "a1522081",
   "metadata": {},
   "outputs": [
    {
     "name": "stdout",
     "output_type": "stream",
     "text": [
      "John\n"
     ]
    }
   ],
   "source": [
    "print(person.get_name())"
   ]
  },
  {
   "cell_type": "code",
   "execution_count": 13,
   "id": "cdf14b01",
   "metadata": {},
   "outputs": [
    {
     "name": "stdout",
     "output_type": "stream",
     "text": [
      "30\n"
     ]
    }
   ],
   "source": [
    "print(person.get_age())"
   ]
  },
  {
   "cell_type": "code",
   "execution_count": 14,
   "id": "ab7318af",
   "metadata": {},
   "outputs": [],
   "source": [
    "person.set_name(\"Jane\")"
   ]
  },
  {
   "cell_type": "code",
   "execution_count": 15,
   "id": "fe8876ed",
   "metadata": {},
   "outputs": [],
   "source": [
    "person.set_age(35)"
   ]
  },
  {
   "cell_type": "code",
   "execution_count": 16,
   "id": "e5e6aa18",
   "metadata": {},
   "outputs": [
    {
     "name": "stdout",
     "output_type": "stream",
     "text": [
      "Jane\n"
     ]
    }
   ],
   "source": [
    "print(person.get_name()) "
   ]
  },
  {
   "cell_type": "code",
   "execution_count": 17,
   "id": "f2786565",
   "metadata": {},
   "outputs": [
    {
     "name": "stdout",
     "output_type": "stream",
     "text": [
      "35\n"
     ]
    }
   ],
   "source": [
    "print(person.get_age())"
   ]
  },
  {
   "cell_type": "markdown",
   "id": "3f50034b",
   "metadata": {},
   "source": [
    "# \n",
    "Q5.What is method overriding in python? Write a python code to demonstrate method overriding."
   ]
  },
  {
   "cell_type": "markdown",
   "id": "5ae6835f",
   "metadata": {},
   "source": [
    "Method overriding is a feature in object-oriented programming where a subclass provides its own implementation of a method that is already defined in its parent class. This allows the subclass to change the behavior of the method without changing its name or arguments."
   ]
  },
  {
   "cell_type": "code",
   "execution_count": 18,
   "id": "fe135884",
   "metadata": {},
   "outputs": [],
   "source": [
    "class Animal:\n",
    "    def sound(self):\n",
    "        print(\"The animal makes a sound.\")\n",
    "\n",
    "class Dog(Animal):\n",
    "    def sound(self):\n",
    "        print(\"The dog barks.\")\n",
    "\n",
    "class Cat(Animal):\n",
    "    def sound(self):\n",
    "        print(\"The cat meows.\")"
   ]
  },
  {
   "cell_type": "code",
   "execution_count": 19,
   "id": "dbf6007c",
   "metadata": {},
   "outputs": [],
   "source": [
    "animal = Animal()"
   ]
  },
  {
   "cell_type": "code",
   "execution_count": 20,
   "id": "998f3366",
   "metadata": {},
   "outputs": [
    {
     "name": "stdout",
     "output_type": "stream",
     "text": [
      "The animal makes a sound.\n"
     ]
    }
   ],
   "source": [
    "animal.sound()"
   ]
  },
  {
   "cell_type": "code",
   "execution_count": 21,
   "id": "8f0a69c6",
   "metadata": {},
   "outputs": [],
   "source": [
    "dog = Dog()"
   ]
  },
  {
   "cell_type": "code",
   "execution_count": 22,
   "id": "a329e3ef",
   "metadata": {},
   "outputs": [
    {
     "name": "stdout",
     "output_type": "stream",
     "text": [
      "The dog barks.\n"
     ]
    }
   ],
   "source": [
    "dog.sound()"
   ]
  },
  {
   "cell_type": "code",
   "execution_count": 23,
   "id": "2cb0e99a",
   "metadata": {},
   "outputs": [],
   "source": [
    "cat = Cat()"
   ]
  },
  {
   "cell_type": "code",
   "execution_count": 24,
   "id": "84647055",
   "metadata": {},
   "outputs": [
    {
     "name": "stdout",
     "output_type": "stream",
     "text": [
      "The cat meows.\n"
     ]
    }
   ],
   "source": [
    "cat.sound()"
   ]
  },
  {
   "cell_type": "code",
   "execution_count": null,
   "id": "68d8eb59",
   "metadata": {},
   "outputs": [],
   "source": []
  },
  {
   "cell_type": "code",
   "execution_count": null,
   "id": "a8d0bd11",
   "metadata": {},
   "outputs": [],
   "source": []
  }
 ],
 "metadata": {
  "kernelspec": {
   "display_name": "Python 3 (ipykernel)",
   "language": "python",
   "name": "python3"
  },
  "language_info": {
   "codemirror_mode": {
    "name": "ipython",
    "version": 3
   },
   "file_extension": ".py",
   "mimetype": "text/x-python",
   "name": "python",
   "nbconvert_exporter": "python",
   "pygments_lexer": "ipython3",
   "version": "3.9.7"
  }
 },
 "nbformat": 4,
 "nbformat_minor": 5
}
