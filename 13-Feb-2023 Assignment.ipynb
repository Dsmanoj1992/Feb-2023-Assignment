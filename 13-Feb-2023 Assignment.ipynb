{
 "cells": [
  {
   "cell_type": "markdown",
   "id": "aa9bf2ca",
   "metadata": {},
   "source": [
    "# Q1.Explain why we have to use the Exception class while creating a Custom Exception.\n",
    " Note: Here Exception class refers to the base class for all the exceptions."
   ]
  },
  {
   "cell_type": "markdown",
   "id": "fc7d0395",
   "metadata": {},
   "source": [
    "# Answer\n",
    "The Exception class provides a base class for all the exceptions that can be used in a program. It allows us to create our own custom exceptions by subclassing it. This allows us to create custom exceptions that are more specific to our application, and which can provide more meaningful error messages. Additionally, it makes it easier to handle errors in a more organized way because we can easily distinguish between different types of exceptions."
   ]
  },
  {
   "cell_type": "markdown",
   "id": "5260a93d",
   "metadata": {},
   "source": [
    "# Q2. Write a python program to print Python Exception Hierarchy."
   ]
  },
  {
   "cell_type": "code",
   "execution_count": 2,
   "id": "5c2ca89e",
   "metadata": {},
   "outputs": [
    {
     "name": "stdout",
     "output_type": "stream",
     "text": [
      "Exception\n",
      "  TypeError\n",
      "    MultipartConversionError\n",
      "    FloatOperation\n",
      "  StopAsyncIteration\n",
      "  StopIteration\n",
      "  ImportError\n",
      "    ModuleNotFoundError\n",
      "    ZipImportError\n",
      "  OSError\n",
      "    ConnectionError\n",
      "      BrokenPipeError\n",
      "      ConnectionAbortedError\n",
      "      ConnectionRefusedError\n",
      "      ConnectionResetError\n",
      "        RemoteDisconnected\n",
      "    BlockingIOError\n",
      "    ChildProcessError\n",
      "    FileExistsError\n",
      "    FileNotFoundError\n",
      "    IsADirectoryError\n",
      "    NotADirectoryError\n",
      "    InterruptedError\n",
      "      InterruptedSystemCall\n",
      "    PermissionError\n",
      "    ProcessLookupError\n",
      "    TimeoutError\n",
      "    UnsupportedOperation\n",
      "    herror\n",
      "    gaierror\n",
      "    timeout\n",
      "    Error\n",
      "      SameFileError\n",
      "    SpecialFileError\n",
      "    ExecError\n",
      "    ReadError\n",
      "    SSLError\n",
      "      SSLCertVerificationError\n",
      "      SSLZeroReturnError\n",
      "      SSLWantReadError\n",
      "      SSLWantWriteError\n",
      "      SSLSyscallError\n",
      "      SSLEOFError\n",
      "    URLError\n",
      "      HTTPError\n",
      "      ContentTooShortError\n",
      "    BadGzipFile\n",
      "  EOFError\n",
      "    IncompleteReadError\n",
      "  RuntimeError\n",
      "    RecursionError\n",
      "    NotImplementedError\n",
      "      ZMQVersionError\n",
      "      StdinNotImplementedError\n",
      "    _DeadlockError\n",
      "    BrokenBarrierError\n",
      "    BrokenExecutor\n",
      "    SendfileNotAvailableError\n",
      "    ExtractionError\n",
      "    VariableError\n",
      "  NameError\n",
      "    UnboundLocalError\n",
      "  AttributeError\n",
      "    FrozenInstanceError\n",
      "  SyntaxError\n",
      "    IndentationError\n",
      "      TabError\n",
      "  LookupError\n",
      "    IndexError\n",
      "    KeyError\n",
      "      NoSuchKernel\n",
      "      UnknownBackend\n",
      "    CodecRegistryError\n",
      "  ValueError\n",
      "    UnicodeError\n",
      "      UnicodeEncodeError\n",
      "      UnicodeDecodeError\n",
      "      UnicodeTranslateError\n",
      "    UnsupportedOperation\n",
      "    JSONDecodeError\n",
      "    SSLCertVerificationError\n",
      "    Error\n",
      "    ClassNotFound\n",
      "    ClipboardEmpty\n",
      "    MessageDefect\n",
      "      NoBoundaryInMultipartDefect\n",
      "      StartBoundaryNotFoundDefect\n",
      "      CloseBoundaryNotFoundDefect\n",
      "      FirstHeaderLineIsContinuationDefect\n",
      "      MisplacedEnvelopeHeaderDefect\n",
      "      MissingHeaderBodySeparatorDefect\n",
      "      MultipartInvariantViolationDefect\n",
      "      InvalidMultipartContentTransferEncodingDefect\n",
      "      UndecodableBytesDefect\n",
      "      InvalidBase64PaddingDefect\n",
      "      InvalidBase64CharactersDefect\n",
      "      InvalidBase64LengthDefect\n",
      "      HeaderDefect\n",
      "        InvalidHeaderDefect\n",
      "        HeaderMissingRequiredValue\n",
      "        NonPrintableDefect\n",
      "        ObsoleteHeaderDefect\n",
      "        NonASCIILocalPartDefect\n",
      "    IllegalMonthError\n",
      "    IllegalWeekdayError\n",
      "    MacroToEdit\n",
      "    ParserError\n",
      "    InvalidFileException\n",
      "    InvalidVersion\n",
      "    InvalidSpecifier\n",
      "    InvalidMarker\n",
      "    UndefinedComparison\n",
      "    UndefinedEnvironmentName\n",
      "    InvalidRequirement\n",
      "      RequirementParseError\n",
      "  AssertionError\n",
      "  ArithmeticError\n",
      "    FloatingPointError\n",
      "    OverflowError\n",
      "    ZeroDivisionError\n",
      "      DivisionByZero\n",
      "      DivisionUndefined\n",
      "    DecimalException\n",
      "      Clamped\n",
      "      Rounded\n",
      "        Underflow\n",
      "        Overflow\n",
      "      Inexact\n",
      "        Underflow\n",
      "        Overflow\n",
      "      Subnormal\n",
      "        Underflow\n",
      "      DivisionByZero\n",
      "      FloatOperation\n",
      "      InvalidOperation\n",
      "        ConversionSyntax\n",
      "        DivisionImpossible\n",
      "        DivisionUndefined\n",
      "        InvalidContext\n",
      "  SystemError\n",
      "    CodecRegistryError\n",
      "  ReferenceError\n",
      "  MemoryError\n",
      "  BufferError\n",
      "  Warning\n",
      "    UserWarning\n",
      "      GetPassWarning\n",
      "      FormatterWarning\n",
      "    DeprecationWarning\n",
      "      ProvisionalWarning\n",
      "    PendingDeprecationWarning\n",
      "    SyntaxWarning\n",
      "    RuntimeWarning\n",
      "      ProactorSelectorThreadWarning\n",
      "      UnknownTimezoneWarning\n",
      "      PEP440Warning\n",
      "    FutureWarning\n",
      "      ProvisionalCompleterWarning\n",
      "    ImportWarning\n",
      "    UnicodeWarning\n",
      "    BytesWarning\n",
      "    ResourceWarning\n",
      "    DeprecatedTzFormatWarning\n",
      "    PkgResourcesDeprecationWarning\n",
      "  Error\n",
      "  _OptionError\n",
      "  error\n",
      "  Verbose\n",
      "  _Error\n",
      "  SubprocessError\n",
      "    CalledProcessError\n",
      "    TimeoutExpired\n",
      "  _GiveupOnSendfile\n",
      "  error\n",
      "  LZMAError\n",
      "  RegistryError\n",
      "  _GiveupOnFastCopy\n",
      "  ZMQBaseError\n",
      "    ZMQError\n",
      "      ContextTerminated\n",
      "      Again\n",
      "      InterruptedSystemCall\n",
      "    ZMQBindError\n",
      "    NotDone\n",
      "  Error\n",
      "  error\n",
      "  PickleError\n",
      "    PicklingError\n",
      "    UnpicklingError\n",
      "  _Stop\n",
      "  TokenError\n",
      "  StopTokenizing\n",
      "  ClassFoundException\n",
      "  EndOfBlock\n",
      "  TraitError\n",
      "  ArgumentError\n",
      "  ArgumentTypeError\n",
      "  ConfigError\n",
      "    ConfigLoaderError\n",
      "      ArgumentError\n",
      "    ConfigFileNotFound\n",
      "  ConfigurableError\n",
      "    MultipleInstanceError\n",
      "  ApplicationError\n",
      "  NoIPAddresses\n",
      "  Error\n",
      "    CancelledError\n",
      "    TimeoutError\n",
      "    InvalidStateError\n",
      "  Incomplete\n",
      "  TimeoutError\n",
      "  InvalidStateError\n",
      "  LimitOverrunError\n",
      "  QueueEmpty\n",
      "  QueueFull\n",
      "  InvalidPortNumber\n",
      "  Empty\n",
      "  Full\n",
      "  DuplicateKernelError\n",
      "  TimeoutError\n",
      "  COMError\n",
      "  ArgumentError\n",
      "  ReturnValueIgnoredError\n",
      "  KeyReuseError\n",
      "  UnknownKeyError\n",
      "  LeakedCallbackError\n",
      "  BadYieldError\n",
      "  ReturnValueIgnoredError\n",
      "  Return\n",
      "  ErrorDuringImport\n",
      "  BdbQuit\n",
      "  Restart\n",
      "  FindCmdError\n",
      "  HomeDirError\n",
      "  ProfileDirError\n",
      "  IPythonCoreError\n",
      "    TryNext\n",
      "    UsageError\n",
      "    StdinNotImplementedError\n",
      "  InputRejected\n",
      "  GetoptError\n",
      "  OptionError\n",
      "  ErrorToken\n",
      "  PrefilterError\n",
      "  AliasError\n",
      "    InvalidAliasError\n",
      "  Error\n",
      "    InterfaceError\n",
      "    DatabaseError\n",
      "      InternalError\n",
      "      OperationalError\n",
      "      ProgrammingError\n",
      "      IntegrityError\n",
      "      DataError\n",
      "      NotSupportedError\n",
      "  Warning\n",
      "  SpaceInInput\n",
      "  DOMException\n",
      "    IndexSizeErr\n",
      "    DomstringSizeErr\n",
      "    HierarchyRequestErr\n",
      "    WrongDocumentErr\n",
      "    InvalidCharacterErr\n",
      "    NoDataAllowedErr\n",
      "    NoModificationAllowedErr\n",
      "    NotFoundErr\n",
      "    NotSupportedErr\n",
      "    InuseAttributeErr\n",
      "    InvalidStateErr\n",
      "    SyntaxErr\n",
      "    InvalidModificationErr\n",
      "    NamespaceErr\n",
      "    InvalidAccessErr\n",
      "    ValidationErr\n",
      "  ValidationError\n",
      "  EditReadOnlyBuffer\n",
      "  _Retry\n",
      "  InvalidLayoutError\n",
      "  HeightIsUnknownError\n",
      "  ParserSyntaxError\n",
      "  InternalParseError\n",
      "  _PositionUpdatingFinished\n",
      "  SimpleGetItemNotFound\n",
      "  UncaughtAttributeError\n",
      "  ParamIssue\n",
      "  _JediError\n",
      "    InternalError\n",
      "    WrongVersion\n",
      "    RefactoringError\n",
      "  OnErrorLeaf\n",
      "  InvalidPythonEnvironment\n",
      "  MessageError\n",
      "    MessageParseError\n",
      "      HeaderParseError\n",
      "      BoundaryError\n",
      "    MultipartConversionError\n",
      "    CharsetError\n",
      "  Error\n",
      "  HTTPException\n",
      "    NotConnected\n",
      "    InvalidURL\n",
      "    UnknownProtocol\n",
      "    UnknownTransferEncoding\n",
      "    UnimplementedFileMode\n",
      "    IncompleteRead\n",
      "    ImproperConnectionState\n",
      "      CannotSendRequest\n",
      "      CannotSendHeader\n",
      "      ResponseNotReady\n",
      "    BadStatusLine\n",
      "      RemoteDisconnected\n",
      "    LineTooLong\n",
      "  InteractivelyDefined\n",
      "  KillEmbedded\n",
      "  QueueEmpty\n",
      "  QueueFull\n",
      "  ExpatError\n",
      "  Error\n",
      "    ProtocolError\n",
      "    ResponseError\n",
      "    Fault\n",
      "  BadZipFile\n",
      "  LargeZipFile\n",
      "  error\n",
      "  com_error\n",
      "  internal_error\n",
      "  ParseBaseException\n",
      "    ParseException\n",
      "    ParseFatalException\n",
      "      ParseSyntaxException\n",
      "  RecursiveGrammarException\n",
      "  ResolutionError\n",
      "    VersionConflict\n",
      "      ContextualVersionConflict\n",
      "    DistributionNotFound\n",
      "    UnknownExtra\n",
      "  UnableToResolveVariableException\n",
      "  InvalidTypeInArgsException\n"
     ]
    }
   ],
   "source": [
    "class_hierarchy = []\n",
    "\n",
    "def get_exception_hierarchy(exception_class, indent_level=0):\n",
    "    indent = '  ' * indent_level\n",
    "    class_hierarchy.append(f'{indent}{exception_class.__name__}')\n",
    "    for subclass in exception_class.__subclasses__():\n",
    "        get_exception_hierarchy(subclass, indent_level + 1)\n",
    "        \n",
    "get_exception_hierarchy(Exception)\n",
    "\n",
    "print('\\n'.join(class_hierarchy))"
   ]
  },
  {
   "cell_type": "markdown",
   "id": "bff39aa5",
   "metadata": {},
   "source": [
    "# Q3. What errors are defined in the ArithmeticError class? Explain any two with an example."
   ]
  },
  {
   "cell_type": "markdown",
   "id": "4d94fe09",
   "metadata": {},
   "source": [
    "# Answer\n",
    "The ArithmeticError class is a built-in Python exception class that serves as a base class for various arithmetic-related errors. Some of the errors that are defined as subclasses of ArithmeticError include:"
   ]
  },
  {
   "cell_type": "markdown",
   "id": "d107a028",
   "metadata": {},
   "source": [
    "# \n",
    "FloatingPointError: Raised when a floating-point operation fails to produce a valid result, such as when dividing by zero or computing the square root of a negative number.\n",
    "OverflowError: Raised when an arithmetic operation exceeds the maximum representable value, such as when adding two large numbers together.\n",
    "ZeroDivisionError: Raised when attempting to divide a number by zero."
   ]
  },
  {
   "cell_type": "markdown",
   "id": "dfcd32a2",
   "metadata": {},
   "source": [
    "# \n",
    "FloatingPointError\n",
    "\n",
    "FloatingPointError is raised when a floating-point operation fails to produce a valid result. For example, consider the following code:"
   ]
  },
  {
   "cell_type": "code",
   "execution_count": 6,
   "id": "ce46dc20",
   "metadata": {},
   "outputs": [
    {
     "ename": "ValueError",
     "evalue": "math domain error",
     "output_type": "error",
     "traceback": [
      "\u001b[1;31m---------------------------------------------------------------------------\u001b[0m",
      "\u001b[1;31mValueError\u001b[0m                                Traceback (most recent call last)",
      "\u001b[1;32m~\\AppData\\Local\\Temp/ipykernel_7528/490134149.py\u001b[0m in \u001b[0;36m<module>\u001b[1;34m\u001b[0m\n\u001b[0;32m      1\u001b[0m \u001b[1;32mimport\u001b[0m \u001b[0mmath\u001b[0m\u001b[1;33m\u001b[0m\u001b[1;33m\u001b[0m\u001b[0m\n\u001b[0;32m      2\u001b[0m \u001b[1;33m\u001b[0m\u001b[0m\n\u001b[1;32m----> 3\u001b[1;33m \u001b[0mx\u001b[0m \u001b[1;33m=\u001b[0m \u001b[0mmath\u001b[0m\u001b[1;33m.\u001b[0m\u001b[0msqrt\u001b[0m\u001b[1;33m(\u001b[0m\u001b[1;33m-\u001b[0m\u001b[1;36m1\u001b[0m\u001b[1;33m)\u001b[0m\u001b[1;33m\u001b[0m\u001b[1;33m\u001b[0m\u001b[0m\n\u001b[0m\u001b[0;32m      4\u001b[0m \u001b[0mprint\u001b[0m\u001b[1;33m(\u001b[0m\u001b[0mx\u001b[0m\u001b[1;33m)\u001b[0m\u001b[1;33m\u001b[0m\u001b[1;33m\u001b[0m\u001b[0m\n",
      "\u001b[1;31mValueError\u001b[0m: math domain error"
     ]
    }
   ],
   "source": [
    "import math\n",
    "\n",
    "x = math.sqrt(-1)\n",
    "print(x)\n"
   ]
  },
  {
   "cell_type": "markdown",
   "id": "121b31cc",
   "metadata": {},
   "source": [
    "This code attempts to compute the square root of -1, which is not a valid operation. Running this code will raise a ValueError with the message \"math domain error\". However, if we catch that exception and print its type, we can see that it is a subclass of FloatingPointError:"
   ]
  },
  {
   "cell_type": "code",
   "execution_count": 7,
   "id": "b1c7beae",
   "metadata": {},
   "outputs": [
    {
     "ename": "ValueError",
     "evalue": "math domain error",
     "output_type": "error",
     "traceback": [
      "\u001b[1;31m---------------------------------------------------------------------------\u001b[0m",
      "\u001b[1;31mValueError\u001b[0m                                Traceback (most recent call last)",
      "\u001b[1;32m~\\AppData\\Local\\Temp/ipykernel_7528/4141331188.py\u001b[0m in \u001b[0;36m<module>\u001b[1;34m\u001b[0m\n\u001b[0;32m      2\u001b[0m \u001b[1;33m\u001b[0m\u001b[0m\n\u001b[0;32m      3\u001b[0m \u001b[1;32mtry\u001b[0m\u001b[1;33m:\u001b[0m\u001b[1;33m\u001b[0m\u001b[1;33m\u001b[0m\u001b[0m\n\u001b[1;32m----> 4\u001b[1;33m     \u001b[0mx\u001b[0m \u001b[1;33m=\u001b[0m \u001b[0mmath\u001b[0m\u001b[1;33m.\u001b[0m\u001b[0msqrt\u001b[0m\u001b[1;33m(\u001b[0m\u001b[1;33m-\u001b[0m\u001b[1;36m1\u001b[0m\u001b[1;33m)\u001b[0m\u001b[1;33m\u001b[0m\u001b[1;33m\u001b[0m\u001b[0m\n\u001b[0m\u001b[0;32m      5\u001b[0m \u001b[1;32mexcept\u001b[0m \u001b[0mFloatingPointError\u001b[0m \u001b[1;32mas\u001b[0m \u001b[0me\u001b[0m\u001b[1;33m:\u001b[0m\u001b[1;33m\u001b[0m\u001b[1;33m\u001b[0m\u001b[0m\n\u001b[0;32m      6\u001b[0m     \u001b[0mprint\u001b[0m\u001b[1;33m(\u001b[0m\u001b[0mtype\u001b[0m\u001b[1;33m(\u001b[0m\u001b[0me\u001b[0m\u001b[1;33m)\u001b[0m\u001b[1;33m.\u001b[0m\u001b[0m__name__\u001b[0m\u001b[1;33m)\u001b[0m\u001b[1;33m\u001b[0m\u001b[1;33m\u001b[0m\u001b[0m\n",
      "\u001b[1;31mValueError\u001b[0m: math domain error"
     ]
    }
   ],
   "source": [
    "import math\n",
    "\n",
    "try:\n",
    "    x = math.sqrt(-1)\n",
    "except FloatingPointError as e:\n",
    "    print(type(e).__name__)\n"
   ]
  },
  {
   "cell_type": "markdown",
   "id": "4a911205",
   "metadata": {},
   "source": [
    "ZeroDivisionError\n",
    "\n",
    "ZeroDivisionError is raised when attempting to divide a number by zero. For example:"
   ]
  },
  {
   "cell_type": "code",
   "execution_count": 8,
   "id": "37760f05",
   "metadata": {},
   "outputs": [
    {
     "ename": "ZeroDivisionError",
     "evalue": "division by zero",
     "output_type": "error",
     "traceback": [
      "\u001b[1;31m---------------------------------------------------------------------------\u001b[0m",
      "\u001b[1;31mZeroDivisionError\u001b[0m                         Traceback (most recent call last)",
      "\u001b[1;32m~\\AppData\\Local\\Temp/ipykernel_7528/3525468277.py\u001b[0m in \u001b[0;36m<module>\u001b[1;34m\u001b[0m\n\u001b[1;32m----> 1\u001b[1;33m \u001b[0mx\u001b[0m \u001b[1;33m=\u001b[0m \u001b[1;36m1\u001b[0m \u001b[1;33m/\u001b[0m \u001b[1;36m0\u001b[0m\u001b[1;33m\u001b[0m\u001b[1;33m\u001b[0m\u001b[0m\n\u001b[0m",
      "\u001b[1;31mZeroDivisionError\u001b[0m: division by zero"
     ]
    }
   ],
   "source": [
    "x = 1 / 0\n"
   ]
  },
  {
   "cell_type": "markdown",
   "id": "cc02cc07",
   "metadata": {},
   "source": [
    "This code attempts to divide 1 by 0, which is not a valid operation. Running \n",
    "\n",
    "this code will raise a ZeroDivisionError:"
   ]
  },
  {
   "cell_type": "markdown",
   "id": "635fbd9d",
   "metadata": {},
   "source": [
    "We can catch this exception and handle it appropriately, such as by printing a \n",
    "\n",
    "custom error message"
   ]
  },
  {
   "cell_type": "code",
   "execution_count": 10,
   "id": "29b370b1",
   "metadata": {},
   "outputs": [
    {
     "name": "stdout",
     "output_type": "stream",
     "text": [
      "Error: division by zero\n"
     ]
    }
   ],
   "source": [
    "try:\n",
    "    x = 1 / 0\n",
    "except ZeroDivisionError as e:\n",
    "    print(\"Error:\", e)\n"
   ]
  },
  {
   "cell_type": "markdown",
   "id": "ab3759e7",
   "metadata": {},
   "source": [
    "# Q4. Why LookupError class is used? Explain with an example KeyError and IndexError"
   ]
  },
  {
   "cell_type": "markdown",
   "id": "702fd217",
   "metadata": {},
   "source": [
    "# Answer\n",
    "The LookupError class is a built-in Python exception class that serves as a base class for various key and index lookup-related errors. Some of the errors that are defined as subclasses of LookupError include:\n",
    "\n",
    "IndexError: Raised when attempting to access an index that is out of range of a sequence, such as a list or tuple.\n",
    "KeyError: Raised when attempting to access a dictionary key that does not exist."
   ]
  },
  {
   "cell_type": "markdown",
   "id": "b4241530",
   "metadata": {},
   "source": [
    "# \n",
    "KeyError\n",
    "KeyError is raised when attempting to access a dictionary key that does not exist. For example:"
   ]
  },
  {
   "cell_type": "code",
   "execution_count": 11,
   "id": "e409a971",
   "metadata": {},
   "outputs": [
    {
     "ename": "KeyError",
     "evalue": "'d'",
     "output_type": "error",
     "traceback": [
      "\u001b[1;31m---------------------------------------------------------------------------\u001b[0m",
      "\u001b[1;31mKeyError\u001b[0m                                  Traceback (most recent call last)",
      "\u001b[1;32m~\\AppData\\Local\\Temp/ipykernel_7528/2714216532.py\u001b[0m in \u001b[0;36m<module>\u001b[1;34m\u001b[0m\n\u001b[0;32m      1\u001b[0m \u001b[0md\u001b[0m \u001b[1;33m=\u001b[0m \u001b[1;33m{\u001b[0m\u001b[1;34m'a'\u001b[0m\u001b[1;33m:\u001b[0m \u001b[1;36m1\u001b[0m\u001b[1;33m,\u001b[0m \u001b[1;34m'b'\u001b[0m\u001b[1;33m:\u001b[0m \u001b[1;36m2\u001b[0m\u001b[1;33m,\u001b[0m \u001b[1;34m'c'\u001b[0m\u001b[1;33m:\u001b[0m \u001b[1;36m3\u001b[0m\u001b[1;33m}\u001b[0m\u001b[1;33m\u001b[0m\u001b[1;33m\u001b[0m\u001b[0m\n\u001b[1;32m----> 2\u001b[1;33m \u001b[0mx\u001b[0m \u001b[1;33m=\u001b[0m \u001b[0md\u001b[0m\u001b[1;33m[\u001b[0m\u001b[1;34m'd'\u001b[0m\u001b[1;33m]\u001b[0m\u001b[1;33m\u001b[0m\u001b[1;33m\u001b[0m\u001b[0m\n\u001b[0m",
      "\u001b[1;31mKeyError\u001b[0m: 'd'"
     ]
    }
   ],
   "source": [
    "d = {'a': 1, 'b': 2, 'c': 3}\n",
    "x = d['d']\n"
   ]
  },
  {
   "cell_type": "markdown",
   "id": "ecb45c45",
   "metadata": {},
   "source": [
    "This code attempts to access the key 'd' in the dictionary d, but that key does not exist. Running this code will raise a KeyError:"
   ]
  },
  {
   "cell_type": "markdown",
   "id": "76437e86",
   "metadata": {},
   "source": [
    "We can catch this exception and handle it appropriately, such as by printing a custom error message:"
   ]
  },
  {
   "cell_type": "code",
   "execution_count": 13,
   "id": "3988512b",
   "metadata": {},
   "outputs": [
    {
     "name": "stdout",
     "output_type": "stream",
     "text": [
      "Error: 'd'\n"
     ]
    }
   ],
   "source": [
    "d = {'a': 1, 'b': 2, 'c': 3}\n",
    "\n",
    "try:\n",
    "    x = d['d']\n",
    "except KeyError as e:\n",
    "    print(\"Error:\", e)\n"
   ]
  },
  {
   "cell_type": "markdown",
   "id": "40927d72",
   "metadata": {},
   "source": [
    "IndexError\n",
    "\n",
    "IndexError is raised when attempting to access an index that is out of range of a sequence, such as a list or tuple. For example:"
   ]
  },
  {
   "cell_type": "code",
   "execution_count": 14,
   "id": "5087cf7d",
   "metadata": {},
   "outputs": [
    {
     "ename": "IndexError",
     "evalue": "list index out of range",
     "output_type": "error",
     "traceback": [
      "\u001b[1;31m---------------------------------------------------------------------------\u001b[0m",
      "\u001b[1;31mIndexError\u001b[0m                                Traceback (most recent call last)",
      "\u001b[1;32m~\\AppData\\Local\\Temp/ipykernel_7528/90103839.py\u001b[0m in \u001b[0;36m<module>\u001b[1;34m\u001b[0m\n\u001b[0;32m      1\u001b[0m \u001b[0ma\u001b[0m \u001b[1;33m=\u001b[0m \u001b[1;33m[\u001b[0m\u001b[1;36m1\u001b[0m\u001b[1;33m,\u001b[0m \u001b[1;36m2\u001b[0m\u001b[1;33m,\u001b[0m \u001b[1;36m3\u001b[0m\u001b[1;33m]\u001b[0m\u001b[1;33m\u001b[0m\u001b[1;33m\u001b[0m\u001b[0m\n\u001b[1;32m----> 2\u001b[1;33m \u001b[0mx\u001b[0m \u001b[1;33m=\u001b[0m \u001b[0ma\u001b[0m\u001b[1;33m[\u001b[0m\u001b[1;36m3\u001b[0m\u001b[1;33m]\u001b[0m\u001b[1;33m\u001b[0m\u001b[1;33m\u001b[0m\u001b[0m\n\u001b[0m",
      "\u001b[1;31mIndexError\u001b[0m: list index out of range"
     ]
    }
   ],
   "source": [
    "a = [1, 2, 3]\n",
    "x = a[3]\n"
   ]
  },
  {
   "cell_type": "markdown",
   "id": "15815df7",
   "metadata": {},
   "source": [
    "This code attempts to access the element at index 3 in the list a, but that index is out of range (since the list only has three elements). Running this code will raise an IndexError:\n"
   ]
  },
  {
   "cell_type": "markdown",
   "id": "13615c89",
   "metadata": {},
   "source": [
    "We can catch this exception and handle it appropriately, such as by printing a custom error message:"
   ]
  },
  {
   "cell_type": "code",
   "execution_count": 16,
   "id": "23652f02",
   "metadata": {},
   "outputs": [
    {
     "name": "stdout",
     "output_type": "stream",
     "text": [
      "Error: list index out of range\n"
     ]
    }
   ],
   "source": [
    "a = [1, 2, 3]\n",
    "\n",
    "try:\n",
    "    x = a[3]\n",
    "except IndexError as e:\n",
    "    print(\"Error:\", e)\n"
   ]
  },
  {
   "cell_type": "markdown",
   "id": "894cf605",
   "metadata": {},
   "source": [
    "LookupError is a base class for various key and index lookup-related errors in Python. KeyError is raised when attempting to access a dictionary key that does not exist. IndexError is raised when attempting to access an index that is out of range of a sequence, such as a list or tuple."
   ]
  },
  {
   "cell_type": "markdown",
   "id": "44c3c1bb",
   "metadata": {},
   "source": [
    "# Q5. Explain ImportError. What is ModuleNotFoundError?"
   ]
  },
  {
   "cell_type": "markdown",
   "id": "2c003542",
   "metadata": {},
   "source": [
    "# Answer\n",
    "ImportError is a built-in Python exception class that is raised when an imported module or package cannot be found or loaded. This can occur for a variety of reasons, such as a misspelled module name, a missing module file, or a failure to properly install the required module or package."
   ]
  },
  {
   "cell_type": "code",
   "execution_count": 17,
   "id": "c48d714e",
   "metadata": {},
   "outputs": [
    {
     "ename": "ModuleNotFoundError",
     "evalue": "No module named 'somemodule'",
     "output_type": "error",
     "traceback": [
      "\u001b[1;31m---------------------------------------------------------------------------\u001b[0m",
      "\u001b[1;31mModuleNotFoundError\u001b[0m                       Traceback (most recent call last)",
      "\u001b[1;32m~\\AppData\\Local\\Temp/ipykernel_7528/3905927216.py\u001b[0m in \u001b[0;36m<module>\u001b[1;34m\u001b[0m\n\u001b[1;32m----> 1\u001b[1;33m \u001b[1;32mimport\u001b[0m \u001b[0msomemodule\u001b[0m\u001b[1;33m\u001b[0m\u001b[1;33m\u001b[0m\u001b[0m\n\u001b[0m",
      "\u001b[1;31mModuleNotFoundError\u001b[0m: No module named 'somemodule'"
     ]
    }
   ],
   "source": [
    "import somemodule\n"
   ]
  },
  {
   "cell_type": "markdown",
   "id": "86861aed",
   "metadata": {},
   "source": [
    "This code attempts to import the somemodule module. If that module does not exist or cannot be found, an ImportError will be raised:"
   ]
  },
  {
   "cell_type": "markdown",
   "id": "5d4b3e17",
   "metadata": {},
   "source": [
    "We can catch this exception and handle it appropriately, such as by printing a custom error message:"
   ]
  },
  {
   "cell_type": "code",
   "execution_count": 18,
   "id": "3bff83da",
   "metadata": {},
   "outputs": [
    {
     "name": "stdout",
     "output_type": "stream",
     "text": [
      "Error: No module named 'somemodule'\n"
     ]
    }
   ],
   "source": [
    "try:\n",
    "    import somemodule\n",
    "except ImportError as e:\n",
    "    print(\"Error:\", e)\n"
   ]
  },
  {
   "cell_type": "markdown",
   "id": "258096ab",
   "metadata": {},
   "source": [
    "Starting from Python 3.6, a new exception called ModuleNotFoundError was introduced to specifically indicate that a module could not be found. This is a subclass of ImportError and is raised when the import statement cannot find the module or package to impor"
   ]
  },
  {
   "cell_type": "code",
   "execution_count": 19,
   "id": "b34f9d2b",
   "metadata": {},
   "outputs": [
    {
     "ename": "ModuleNotFoundError",
     "evalue": "No module named 'missingmodule'",
     "output_type": "error",
     "traceback": [
      "\u001b[1;31m---------------------------------------------------------------------------\u001b[0m",
      "\u001b[1;31mModuleNotFoundError\u001b[0m                       Traceback (most recent call last)",
      "\u001b[1;32m~\\AppData\\Local\\Temp/ipykernel_7528/29017607.py\u001b[0m in \u001b[0;36m<module>\u001b[1;34m\u001b[0m\n\u001b[1;32m----> 1\u001b[1;33m \u001b[1;32mimport\u001b[0m \u001b[0mmissingmodule\u001b[0m\u001b[1;33m\u001b[0m\u001b[1;33m\u001b[0m\u001b[0m\n\u001b[0m",
      "\u001b[1;31mModuleNotFoundError\u001b[0m: No module named 'missingmodule'"
     ]
    }
   ],
   "source": [
    "import missingmodule\n"
   ]
  },
  {
   "cell_type": "markdown",
   "id": "9540186b",
   "metadata": {},
   "source": [
    "If the missingmodule does not exist or is not available in the Python path, an ModuleNotFoundError will be raised:"
   ]
  },
  {
   "cell_type": "markdown",
   "id": "3de50368",
   "metadata": {},
   "source": [
    "We can catch this exception and handle it appropriately, such as by printing a custom error message:"
   ]
  },
  {
   "cell_type": "code",
   "execution_count": 20,
   "id": "477210bc",
   "metadata": {},
   "outputs": [
    {
     "name": "stdout",
     "output_type": "stream",
     "text": [
      "Error: No module named 'missingmodule'\n"
     ]
    }
   ],
   "source": [
    "try:\n",
    "    import missingmodule\n",
    "except ModuleNotFoundError as e:\n",
    "    print(\"Error:\", e)\n"
   ]
  },
  {
   "cell_type": "markdown",
   "id": "577bd8bb",
   "metadata": {},
   "source": [
    "# ImportError is raised when an imported module or package cannot be found or loaded, and ModuleNotFoundError is a subclass of ImportError that specifically indicates that a module could not be found."
   ]
  },
  {
   "cell_type": "markdown",
   "id": "18176903",
   "metadata": {},
   "source": [
    "# Q6. List down some best practices for exception handling in python. "
   ]
  },
  {
   "cell_type": "markdown",
   "id": "bb308000",
   "metadata": {},
   "source": [
    "# Answer"
   ]
  },
  {
   "cell_type": "markdown",
   "id": "ef7ad9ce",
   "metadata": {},
   "source": [
    "\n",
    "1. Be specific: Catch only the exceptions that you expect to occur and that you can handle. Catching too general exceptions, such as Exception, can lead to unexpected behavior and make debugging difficult."
   ]
  },
  {
   "cell_type": "markdown",
   "id": "995d6606",
   "metadata": {},
   "source": [
    "2. Use try-except blocks: Use try-except blocks to handle expected exceptions. The code that might raise an exception should be inside the try block, and the exception handling code should be inside the except block."
   ]
  },
  {
   "cell_type": "markdown",
   "id": "05949dcf",
   "metadata": {},
   "source": [
    "3. Use finally: Use finally blocks to execute code that should be run regardless of whether an exception occurs. For example, if you need to close a file or database connection, you should do so in a finally block."
   ]
  },
  {
   "cell_type": "markdown",
   "id": "dcf2ad9e",
   "metadata": {},
   "source": [
    "4. Keep error messages informative: Error messages should be informative and help the user understand what went wrong. Include any relevant information, such as the type of exception and a description of the problem."
   ]
  },
  {
   "cell_type": "markdown",
   "id": "66184376",
   "metadata": {},
   "source": [
    "5. Don't ignore exceptions: Never ignore exceptions by using an empty except block. This can hide errors and make debugging difficult."
   ]
  },
  {
   "cell_type": "markdown",
   "id": "38bcbd7b",
   "metadata": {},
   "source": [
    "6. Reraise exceptions: If you catch an exception but cannot handle it, you should reraise the exception so that it can be caught by higher-level code. Use the raise statement without any arguments to re-raise the exception."
   ]
  },
  {
   "cell_type": "markdown",
   "id": "b195ce5e",
   "metadata": {},
   "source": [
    "7. Use custom exceptions: Create custom exceptions when necessary to provide more specific information about errors that occur in your code."
   ]
  },
  {
   "cell_type": "markdown",
   "id": "92549a0c",
   "metadata": {},
   "source": [
    "8. Use context managers: Use context managers such as with statements to automatically handle resources such as files or database connections. This can help ensure that resources are properly cleaned up even if an exception occurs."
   ]
  },
  {
   "cell_type": "markdown",
   "id": "43d36037",
   "metadata": {},
   "source": [
    "9. Document exceptions: Document the exceptions that your code may raise so that users of your code can handle them appropriately."
   ]
  },
  {
   "cell_type": "markdown",
   "id": "3fa34b76",
   "metadata": {},
   "source": [
    "10. Test exception handling: Test your exception handling code to ensure that it works as expected and that errors are handled correctly."
   ]
  },
  {
   "cell_type": "code",
   "execution_count": null,
   "id": "63e70c5c",
   "metadata": {},
   "outputs": [],
   "source": []
  }
 ],
 "metadata": {
  "kernelspec": {
   "display_name": "Python 3 (ipykernel)",
   "language": "python",
   "name": "python3"
  },
  "language_info": {
   "codemirror_mode": {
    "name": "ipython",
    "version": 3
   },
   "file_extension": ".py",
   "mimetype": "text/x-python",
   "name": "python",
   "nbconvert_exporter": "python",
   "pygments_lexer": "ipython3",
   "version": "3.9.7"
  }
 },
 "nbformat": 4,
 "nbformat_minor": 5
}
