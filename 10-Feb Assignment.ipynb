{
 "cells": [
  {
   "cell_type": "markdown",
   "id": "748340bb",
   "metadata": {},
   "source": [
    "# Q1. Which function is used to open a file? What are the different modes of opening a file? Explain each mode of file opening."
   ]
  },
  {
   "cell_type": "markdown",
   "id": "5ff01ce1",
   "metadata": {},
   "source": [
    "# A1.\n",
    "# function is used to open a file\n",
    "In most programming languages, there is a specific function or method used to open a file. In Python, for example, the built-in function open() is used to open a file. Other programming languages may have different functions or methods to open a file.\n",
    "\n",
    "# the different modes of opening a file & Explain\n",
    "r: read mode - opens the file for reading (default mode)\n",
    "\n",
    "w: write mode - opens the file for writing, overwriting the file if it already exists, or creating a new file if it doesn't exist\n",
    "\n",
    "a: append mode - opens the file for writing, but appends new data to the end of the file rather than overwriting it\n",
    "\n",
    "x: exclusive creation mode - opens the file for writing only if it doesn't already exist\n",
    "\n",
    "b: binary mode - opens the file in binary mode, which is used for non-text files such as images or audio files\n",
    "\n",
    "t: text mode - opens the file in text mode, which is used for text files and is the default mode"
   ]
  },
  {
   "cell_type": "markdown",
   "id": "cd56413b",
   "metadata": {},
   "source": [
    "# Q2. Why close() function is used? Why is it important to close a file?"
   ]
  },
  {
   "cell_type": "markdown",
   "id": "0a497528",
   "metadata": {},
   "source": [
    "# A2. \n",
    "# Why close() function is used\n",
    "The close() function is used to close a file that has been opened for reading or writing. In most programming languages, including Python, failing to close a file after opening it can cause problems, such as memory leaks and the possibility of data corruption.\n",
    "\n",
    "# Why is it important to close a file\n",
    "important for several reasons:\n",
    "\n",
    "1.Free up system resources: When a file is opened, the operating system allocates resources to keep track of the file and its contents. If the file is not closed properly, those resources will remain in use, even after the program has finished executing. This can lead to memory leaks and can cause the system to run out of resources.\n",
    "\n",
    "2.Ensure data integrity: If a file is not closed properly, any data that was written to the file may not be saved correctly. Closing the file ensures that any pending write operations are completed, and the file is written to disk correctly.\n",
    "\n",
    "3.Allow other programs to access the file: When a file is opened, it is locked by the operating system, which prevents other programs from accessing it. If the file is not closed properly, it may remain locked, which can prevent other programs from accessing it until the system is rebooted."
   ]
  },
  {
   "cell_type": "markdown",
   "id": "9dd3e4bd",
   "metadata": {},
   "source": [
    "# Q3. Write a python program to create a text file. Write ‘I want to become a Data Scientist’ in that file. Then close the file. Open this file and read the content of the file. "
   ]
  },
  {
   "cell_type": "code",
   "execution_count": 1,
   "id": "3d78ffea",
   "metadata": {},
   "outputs": [],
   "source": [
    "# A3.\n",
    "# Create a file object in write mode\n",
    "file = open(\"example.txt\", \"w\")\n",
    "\n",
    "# Write the string to the file\n",
    "file.write(\"I want to become a Data Scientist\")\n",
    "\n",
    "# Close the file object\n",
    "file.close()\n",
    "\n",
    "# Open the file in read mode\n",
    "file = open(\"example.txt\", \"r\")\n",
    "\n",
    "# Read the contents of the file\n",
    "content = file.read()\n",
    "\n",
    "# Close the file object\n",
    "file.close()\n"
   ]
  },
  {
   "cell_type": "code",
   "execution_count": 2,
   "id": "d15d82e8",
   "metadata": {},
   "outputs": [
    {
     "name": "stdout",
     "output_type": "stream",
     "text": [
      "I want to become a Data Scientist\n"
     ]
    }
   ],
   "source": [
    "# Print the contents of the file\n",
    "print(content)"
   ]
  },
  {
   "cell_type": "markdown",
   "id": "d72dc56d",
   "metadata": {},
   "source": [
    "# Q4. Explain the following with python code: read(), readline() and readlines()."
   ]
  },
  {
   "cell_type": "markdown",
   "id": "53236d4a",
   "metadata": {},
   "source": [
    "# Answers"
   ]
  },
  {
   "cell_type": "code",
   "execution_count": 1,
   "id": "5cf07b6d",
   "metadata": {},
   "outputs": [
    {
     "name": "stdout",
     "output_type": "stream",
     "text": [
      "I want to become a Data Scientist\n"
     ]
    }
   ],
   "source": [
    "# read()\n",
    "# This method reads the entire content of a file as a single string. \n",
    "# It takes an optional argument that specifies the number of bytes to be read from the file. \n",
    "# If the argument is not provided, the entire file is read.\n",
    "# open file for reading\n",
    "file = open('example.txt', 'r')\n",
    "\n",
    "# read the entire content of the file\n",
    "content = file.read()\n",
    "\n",
    "# print the content of the file\n",
    "print(content)\n",
    "\n",
    "# close the file\n",
    "file.close()\n"
   ]
  },
  {
   "cell_type": "code",
   "execution_count": 2,
   "id": "79ffbbb0",
   "metadata": {},
   "outputs": [
    {
     "name": "stdout",
     "output_type": "stream",
     "text": [
      "I want to become a Data Scientist\n"
     ]
    }
   ],
   "source": [
    "# readline(): This method reads a single line from a file.\n",
    "# It returns a string that ends with a newline character.\n",
    "# If the end of the file is reached, an empty string is returned.\n",
    "# open file for reading\n",
    "file = open('example.txt', 'r')\n",
    "\n",
    "# read the first line of the file\n",
    "line = file.readline()\n",
    "\n",
    "# print the first line of the file\n",
    "print(line)\n",
    "\n",
    "# close the file\n",
    "file.close()"
   ]
  },
  {
   "cell_type": "code",
   "execution_count": 3,
   "id": "869567da",
   "metadata": {},
   "outputs": [
    {
     "name": "stdout",
     "output_type": "stream",
     "text": [
      "I want to become a Data Scientist\n"
     ]
    }
   ],
   "source": [
    "# readlines(): This method reads all the lines of a file and returns them as a list of strings.\n",
    "# Each string in the list represents a single line from the file.\n",
    "\n",
    "# open file for reading\n",
    "file = open('example.txt', 'r')\n",
    "\n",
    "# read all lines of the file\n",
    "lines = file.readlines()\n",
    "\n",
    "# print all lines of the file\n",
    "for line in lines:\n",
    "    print(line)\n",
    "\n",
    "# close the file\n",
    "file.close()\n"
   ]
  },
  {
   "cell_type": "code",
   "execution_count": 4,
   "id": "081ea272",
   "metadata": {},
   "outputs": [],
   "source": [
    "# Open a file for reading\n",
    "file = open('example.txt', 'r')\n",
    "\n",
    "# Read the content of the file\n",
    "content = file.read()\n",
    "\n",
    "# Close the file\n",
    "file.close()\n"
   ]
  },
  {
   "cell_type": "markdown",
   "id": "c8948072",
   "metadata": {},
   "source": [
    "# Q5. Explain why with statement is used with open(). What is the advantage of using with statement and open() together?"
   ]
  },
  {
   "cell_type": "code",
   "execution_count": 5,
   "id": "6f528732",
   "metadata": {},
   "outputs": [],
   "source": [
    "# Answer\n",
    "# In Python, the with statement is used with open() to ensure that a file is properly closed after its contents have been used. \n",
    "# When a file is opened, it is important to close it after it is no longer needed, \n",
    "# to avoid resource leaks and potential data corruption.\n",
    "\n",
    "# Open a file for reading\n",
    "with open('example.txt', 'r') as file:\n",
    "    content = file.read()\n",
    "\n",
    "# The file is automatically closed after the 'with' block is finished\n"
   ]
  },
  {
   "cell_type": "code",
   "execution_count": 6,
   "id": "0f956c16",
   "metadata": {},
   "outputs": [],
   "source": [
    "# In this example, the with statement is used to open the file, \n",
    "# and the file object is automatically closed when the with block is exited, regardless of whether an exception occurs or not. \n",
    "# This ensures that the file is properly closed, even if there is an error while reading its contents.\n",
    "\n",
    "# The main advantage of using the with statement with open() is that it ensures that the file is always properly closed, \n",
    "# even if there is an exception or error. This can help to prevent resource leaks and data corruption.\n",
    "# Additionally, the code is more concise and readable, as the file object is automatically closed when it is no longer needed."
   ]
  },
  {
   "cell_type": "markdown",
   "id": "474f5eb4",
   "metadata": {},
   "source": [
    "# Q6. Explain the write() and writelines() functions. Give a suitable example."
   ]
  },
  {
   "cell_type": "markdown",
   "id": "94279d55",
   "metadata": {},
   "source": [
    "# Answer) In Python, the write() and writelines() functions are used to write data to a file."
   ]
  },
  {
   "cell_type": "code",
   "execution_count": 8,
   "id": "e823277a",
   "metadata": {},
   "outputs": [],
   "source": [
    "# The write() function is used to write a single string to a file. \n",
    "# It takes a single argument, which is the string to be written to the file.\n",
    "\n",
    "# Open a file for writing\n",
    "file = open('example.txt', 'w')\n",
    "\n",
    "# Write a string to the file\n",
    "file.write('Hello, World!')\n",
    "\n",
    "# Close the file\n",
    "file.close()\n",
    "\n",
    "# In this example, the open() function is used to open a file named 'example.txt' in write mode. \n",
    "# The write() function is then used to write the string \"Hello, World!\" to the file. \n",
    "# Finally, the close() method is called on the file object to close the file."
   ]
  },
  {
   "cell_type": "code",
   "execution_count": 10,
   "id": "804e5b7b",
   "metadata": {},
   "outputs": [],
   "source": [
    "# The writelines() function is used to write multiple lines of text to a file. \n",
    "# It takes a sequence (such as a list or tuple) of strings as its argument.\n",
    "\n",
    "# Open a file for writing\n",
    "file = open('example.txt', 'w')\n",
    "\n",
    "# Write multiple lines to the file\n",
    "lines = ['Line 1\\n', 'Line 2\\n', 'Line 3\\n']\n",
    "file.writelines(lines)\n",
    "\n",
    "# Close the file\n",
    "file.close()\n",
    "\n",
    "# In this example, the open() function is used to open a file named 'example.txt' in write mode.\n",
    "# The writelines() function is then used to write a list of strings to the file, with each string representing a line of text.\n",
    "# Finally, the close() method is called on the file object to close the file."
   ]
  },
  {
   "cell_type": "code",
   "execution_count": null,
   "id": "ff34898e",
   "metadata": {},
   "outputs": [],
   "source": []
  }
 ],
 "metadata": {
  "kernelspec": {
   "display_name": "Python 3 (ipykernel)",
   "language": "python",
   "name": "python3"
  },
  "language_info": {
   "codemirror_mode": {
    "name": "ipython",
    "version": 3
   },
   "file_extension": ".py",
   "mimetype": "text/x-python",
   "name": "python",
   "nbconvert_exporter": "python",
   "pygments_lexer": "ipython3",
   "version": "3.9.7"
  }
 },
 "nbformat": 4,
 "nbformat_minor": 5
}
