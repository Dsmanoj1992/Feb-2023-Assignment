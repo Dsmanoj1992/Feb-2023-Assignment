{
 "cells": [
  {
   "cell_type": "markdown",
   "id": "400fc587",
   "metadata": {},
   "source": [
    "# Q1. What is multithreading in python? Why is it used? Name the module used to handle threads in python"
   ]
  },
  {
   "cell_type": "markdown",
   "id": "c9b6dfc5",
   "metadata": {},
   "source": [
    "# Answer\n",
    "Multithreading in Python is the ability of a program to perform multiple tasks simultaneously, with each task running in its own thread. Threads are lightweight, independent execution units within a process that can run concurrently with other threads. \n",
    "\n",
    "In Python, multithreading is used to improve the performance of a program by taking advantage of the multi-core processors available in modern computer systems.\n",
    "\n",
    "Multithreading can be used in various scenarios, such as:\n",
    "\n",
    "1. Performing I/O operations, such as reading and writing to files or sockets, while the CPU performs other tasks.\n",
    "\n",
    "\n",
    "2. Performing CPU-bound operations, such as matrix calculations or image processing, in parallel to reduce the time required to complete these tasks.\n",
    "\n",
    "3.Improving the responsiveness of graphical user interfaces (GUIs) by running long-running tasks in the background while keeping the UI responsive to user input.\n",
    "\n",
    "\n",
    "The module used to handle threads in Python is called \"threading\". The threading module provides a way to create and manage threads in a Python program. It provides classes for creating new threads, controlling the behavior of threads, and coordinating the execution of multiple threads. The threading module also provides synchronization primitives, such as locks and semaphores, to ensure that threads access shared resources in a safe and coordinated manner."
   ]
  },
  {
   "cell_type": "markdown",
   "id": "a494e70f",
   "metadata": {},
   "source": [
    "# Q2. Why threading module used? Write the following functions:\n",
    "\n",
    "1.activeCount()\n",
    "\n",
    "2.currentThread()\n",
    "\n",
    "3.enumerate()"
   ]
  },
  {
   "cell_type": "markdown",
   "id": "a1f61ae4",
   "metadata": {},
   "source": [
    "# Answer\n",
    "The threading module in Python is used to implement multi-threading. It provides a way to create and manage threads in a Python program. The main functions of the threading module are:\n",
    "\n",
    "1.  activeCount(): This function returns the number of thread objects that are active in the current thread. An active thread is a thread that has been started and has not yet been joined or terminated.\n",
    "\n",
    "2.  currentThread(): This function returns a reference to the current thread object. The current thread is the thread that is executing the function that calls this method.\n",
    "\n",
    "3.  enumerate(): This function returns a list of all thread objects that are currently active in the current process. The list includes all threads that have been started and have not yet been joined or terminated. Each thread object is represented by an instance of the Thread class. The list does not include the main thread, which is the thread that started the Python interpreter."
   ]
  },
  {
   "cell_type": "markdown",
   "id": "7402d6bd",
   "metadata": {},
   "source": [
    "# Q3. Explain the following functions:\n",
    "\n",
    "1.run()\n",
    "\n",
    "2.start()\n",
    "\n",
    "3.join()\n",
    "\n",
    "4.isAlive()"
   ]
  },
  {
   "cell_type": "markdown",
   "id": "102b650b",
   "metadata": {},
   "source": [
    "# Answer\n",
    "In Python's threading module, the following functions are used to manage threads:\n",
    "\n",
    "1. run(): This function is called when a thread is started using the start() method. It is the code that the thread will execute when it is running. If you are creating a custom thread class by subclassing Thread, you should override this method with your own implementation of the thread's behavior.\n",
    "\n",
    "2. start(): This method starts a thread by calling its run() method in a separate thread of control. When the start() method is called, a new thread is created and the run() method of the thread is executed. If the thread is already started, calling start() again will have no effect.\n",
    "\n",
    "3. join(): This method waits for the thread to complete its execution. If the thread has not finished running when join() is called, the calling thread will be blocked until the thread completes. If the thread has already finished running, join() returns immediately. This method is used to ensure that the main thread waits for all other threads to finish before exiting the program.\n",
    "\n",
    "4. isAlive(): This method returns a Boolean value indicating whether the thread is currently executing. If the thread is currently running, isAlive() returns True. If the thread has finished running, isAlive() returns False. This method can be used to check the status of a thread and determine whether it has finished executing."
   ]
  },
  {
   "cell_type": "markdown",
   "id": "26a7be14",
   "metadata": {},
   "source": [
    "# Q4.write a python program to create two threads. Thread one must print the list of squares and thread two must print the list of cubes."
   ]
  },
  {
   "cell_type": "code",
   "execution_count": 1,
   "id": "cfcdfcad",
   "metadata": {},
   "outputs": [
    {
     "name": "stdout",
     "output_type": "stream",
     "text": [
      "Square of 1 is 1\n",
      "Square of 2 is 4\n",
      "Square of 3 is 9\n",
      "Square of 4 is 16\n",
      "Square of 5 is 25\n",
      "Square of 6 is 36\n",
      "Square of 7 is 49\n",
      "Square of 8 is 64\n",
      "Square of 9 is 81\n",
      "Square of 10 is 100\n",
      "Cube of 1 is 1\n",
      "Cube of 2 is 8\n",
      "Cube of 3 is 27\n",
      "Cube of 4 is 64\n",
      "Cube of 5 is 125\n",
      "Cube of 6 is 216\n",
      "Cube of 7 is 343\n",
      "Cube of 8 is 512\n",
      "Cube of 9 is 729\n",
      "Cube of 10 is 1000\n",
      "Main thread exiting\n"
     ]
    }
   ],
   "source": [
    "import threading\n",
    "\n",
    "def print_squares():\n",
    "    for i in range(1, 11):\n",
    "        print(f\"Square of {i} is {i*i}\")\n",
    "\n",
    "def print_cubes():\n",
    "    for i in range(1, 11):\n",
    "        print(f\"Cube of {i} is {i*i*i}\")\n",
    "\n",
    "# Create two threads\n",
    "thread1 = threading.Thread(target=print_squares)\n",
    "thread2 = threading.Thread(target=print_cubes)\n",
    "\n",
    "# Start the threads\n",
    "thread1.start()\n",
    "thread2.start()\n",
    "\n",
    "# Wait for the threads to finish\n",
    "thread1.join()\n",
    "thread2.join()\n",
    "\n",
    "print(\"Main thread exiting\")\n"
   ]
  },
  {
   "cell_type": "markdown",
   "id": "e2a4edb0",
   "metadata": {},
   "source": [
    "# Q5. State advantages and disadvantages of multithreading."
   ]
  },
  {
   "cell_type": "markdown",
   "id": "391cb6a6",
   "metadata": {},
   "source": [
    "# Answer\n",
    "\n",
    "Multithreading is a programming technique that allows a program to perform multiple tasks concurrently. Here are some of the advantages and disadvantages of using multithreading in a program:\n",
    "\n",
    "### Advantages:\n",
    "\n",
    "1.Improved performance: Multithreading can help improve the performance of a program by allowing it to execute multiple tasks simultaneously, thus utilizing the available resources more efficiently.\n",
    "\n",
    "2.Enhanced responsiveness: Multithreading can make a program more responsive by allowing it to perform certain tasks in the background while still responding to user input.\n",
    "\n",
    "3.Better resource management: Multithreading can help manage resources such as CPU and memory more effectively by allowing multiple threads to share them.\n",
    "\n",
    "4.Modular design: Multithreading can facilitate the design of modular programs by allowing each module to be executed in a separate thread.\n",
    "\n",
    "### Disadvantages:\n",
    "\n",
    "1.Increased complexity: Multithreading can add complexity to a program, making it harder to understand, debug, and maintain.\n",
    "\n",
    "2.Synchronization issues: Multithreading can lead to synchronization issues, such as race conditions and deadlocks, where multiple threads try to access the same resource simultaneously.\n",
    "\n",
    "3.Increased overhead: Multithreading can add overhead to a program, as creating and managing threads takes time and resources.\n",
    "\n",
    "4.Limited scalability: Multithreading may not scale well on systems with a large number of processors or cores, as the overhead of managing threads may become a bottleneck.\n",
    "\n",
    "\n",
    "multithreading can be a powerful tool for improving the performance and responsiveness of a program, but it requires careful consideration of its advantages and disadvantages to ensure that it is used appropriately and effectively."
   ]
  },
  {
   "cell_type": "markdown",
   "id": "62fd9bbc",
   "metadata": {},
   "source": [
    "# Q6. Explain deadlocks and race conditions."
   ]
  },
  {
   "cell_type": "markdown",
   "id": "d1cbb031",
   "metadata": {},
   "source": [
    "# Answer\n",
    "\n",
    "Deadlocks and race conditions are two types of synchronization issues that can occur in multithreaded programs.\n",
    "\n",
    "A deadlock occurs when two or more threads are blocked, waiting for each other to release a resource that they hold. For example, consider two threads A and B, where A is holding resource 1 and waiting for resource 2, and B is holding resource 2 and waiting for resource 1. In this case, both threads are blocked and waiting for the other to release the resource they need, causing a deadlock. Deadlocks can cause a program to become unresponsive and require intervention to resolve.\n",
    "\n",
    "A race condition occurs when two or more threads access a shared resource simultaneously, and the final result depends on the order in which the threads execute. For example, consider two threads A and B, both of which access a shared variable X. If thread A reads the value of X, and then thread B updates the value of X before thread A can write to it, the final value of X will depend on the order in which the threads executed. Race conditions can cause unpredictable behavior and lead to incorrect results in a program.\n",
    "\n",
    "To prevent deadlocks and race conditions, multithreaded programs must use synchronization mechanisms such as locks, semaphores, and barriers to coordinate the access to shared resources. These mechanisms ensure that only one thread at a time can access a shared resource, preventing race conditions, and that threads release resources in a coordinated manner, preventing deadlocks. Proper use of synchronization mechanisms is essential for writing correct and reliable multithreaded programs."
   ]
  },
  {
   "cell_type": "code",
   "execution_count": null,
   "id": "ef4ea5ba",
   "metadata": {},
   "outputs": [],
   "source": []
  }
 ],
 "metadata": {
  "kernelspec": {
   "display_name": "Python 3 (ipykernel)",
   "language": "python",
   "name": "python3"
  },
  "language_info": {
   "codemirror_mode": {
    "name": "ipython",
    "version": 3
   },
   "file_extension": ".py",
   "mimetype": "text/x-python",
   "name": "python",
   "nbconvert_exporter": "python",
   "pygments_lexer": "ipython3",
   "version": "3.9.7"
  }
 },
 "nbformat": 4,
 "nbformat_minor": 5
}
