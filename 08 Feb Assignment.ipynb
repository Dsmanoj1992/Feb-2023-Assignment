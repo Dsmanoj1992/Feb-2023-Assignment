{
 "cells": [
  {
   "cell_type": "markdown",
   "id": "9bcc57c2",
   "metadata": {},
   "source": [
    "#  Q1. What is Abstraction in OOps? Explain with an example"
   ]
  },
  {
   "cell_type": "markdown",
   "id": "09e86abf",
   "metadata": {},
   "source": [
    "# A1. \n",
    "Explaination :- Abstraction in Object-Oriented Programming (OOPs) is the process of hiding the implementation details and showing only the essential information to the user. It helps in reducing the complexity of the code and improves the maintainability of the system.\n",
    "\n",
    "\n",
    "Example :- let's consider a car. When we drive a car, we don't need to know how the engine works. We just need to know how to turn it on and drive it. This is abstraction. We are only concerned with the essential information, which is how to operate the car, and not the internal details of how the engine works.\n",
    "\n",
    "In OOPs, abstraction is implemented through classes and interfaces. A class can have both public and private members. The public members are accessible outside the class, while the private members are hidden from the user. The interface defines only the public members, which must be implemented by the classes that implement the interface.\n",
    "\n",
    "In conclusion, abstraction helps to reduce the complexity of the code and improve the maintainability of the system by hiding the implementation details and showing only the essential information to the user."
   ]
  },
  {
   "cell_type": "markdown",
   "id": "73682339",
   "metadata": {},
   "source": [
    "# Q2. Differentiate between Abstraction and          Encapsulation. Explain with an example."
   ]
  },
  {
   "cell_type": "markdown",
   "id": "053a24c9",
   "metadata": {},
   "source": [
    "# A2.\n",
    "\n",
    "Abstraction and encapsulation are related concepts in object-oriented programming (OOP) but they are different in their purpose and implementation.\n",
    "\n",
    "Abstraction, is the process of hiding complex implementation details behind a simpler and more user-friendly interface. It is concerned with representing only the essential information and hiding the implementation details. Abstraction allows the user to focus on what the object does rather than how it does it.\n",
    "\n",
    "\n",
    "Encapsulation is the mechanism of wrapping data and functions within an object, making the data and functions inaccessible to the outside world. Encapsulation is concerned with ensuring that the implementation details of an object are protected from external access and modification, promoting data security and integrity.\n",
    "\n",
    "\n",
    "For example, consider a bank account object. Abstraction would hide the implementation details of how the account balance is calculated and updated, and only expose the essential information, such as the account balance and methods for depositing and withdrawing money. Encapsulation would protect the account balance and the methods for depositing and withdrawing money by making them private to the object, so that they cannot be accessed or modified directly from outside the object.\n",
    "\n",
    "\n",
    "In summary, abstraction is concerned with hiding complexity, while encapsulation is concerned with hiding data and providing access control to it.\n"
   ]
  },
  {
   "cell_type": "markdown",
   "id": "278a9099",
   "metadata": {},
   "source": [
    "# Q3. What is abc module in python? Why is it used?"
   ]
  },
  {
   "cell_type": "markdown",
   "id": "82bc4579",
   "metadata": {},
   "source": [
    "# A3.\n",
    "\n",
    "The abc (Abstract Base Class) module in Python is a module that defines abstract base classes (ABCs). An abstract base class is a class that provides a common interface for its subclasses, but cannot be instantiated on its own. In other words, it is a blueprint for creating objects that outlines what methods must be implemented by its subclasses.\n",
    "\n",
    "The abc module is used to define abstract base classes in Python, and provides mechanisms for checking if a class is an abstract base class, and for registering virtual subclasses. An abstract base class can be thought of as a contract that defines what methods a subclass must implement. By using the abc module, you can enforce this contract and ensure that subclasses are properly implemented."
   ]
  },
  {
   "cell_type": "markdown",
   "id": "f8dacbf9",
   "metadata": {},
   "source": [
    "# Q4. How can we achieve data abstraction?"
   ]
  },
  {
   "cell_type": "markdown",
   "id": "72ed71e5",
   "metadata": {},
   "source": [
    "# A4.\n",
    "\n",
    "Data abstraction is the process of hiding the implementation details of data and exposing only the necessary information to the user. There are several ways to achieve data abstraction in object-oriented programming (OOP)\n",
    "\n",
    "1.Encapsulation: Encapsulation is the mechanism of wrapping data and functions within an object, making the data and functions inaccessible to the outside world. Encapsulation is achieved by defining class variables as private and providing public getter and setter methods to access and modify the data.\n",
    "\n",
    "2.Abstract classes: An abstract class is a class that provides a blueprint for creating objects, but cannot be instantiated on its own. It provides a common interface for its subclasses, but requires the subclasses to implement the details.\n",
    "\n",
    "3.Interfaces: An interface defines a set of methods that must be implemented by its subclasses, but provides no implementation details. Interfaces are used to specify a contract that must be followed by all objects that implement the interface.\n",
    "\n",
    "4.Information hiding: Information hiding is the practice of keeping the implementation details of a system hidden from the users. This is achieved by encapsulating the data and functions within objects and providing only the necessary information to the outside world."
   ]
  },
  {
   "cell_type": "markdown",
   "id": "485fdee6",
   "metadata": {},
   "source": [
    "# Q5. Can we create an instance of an abstract class? Explain your answer."
   ]
  },
  {
   "cell_type": "markdown",
   "id": "127088a0",
   "metadata": {},
   "source": [
    "# A5.\n",
    "\n",
    "No, you cannot create an instance of an abstract class. An abstract class is a class that provides a blueprint for creating objects, but cannot be instantiated on its own. The purpose of an abstract class is to define a common interface for its subclasses, but not to be used as a concrete type.\n",
    "\n",
    "In order to use an abstract class, you must create a subclass that implements the abstract methods defined in the abstract class. The subclass can then be instantiated, and will inherit the properties and methods defined in the abstract class."
   ]
  },
  {
   "cell_type": "markdown",
   "id": "74201216",
   "metadata": {},
   "source": [
    "# For example,"
   ]
  },
  {
   "cell_type": "code",
   "execution_count": 21,
   "id": "a0ceeec6",
   "metadata": {},
   "outputs": [],
   "source": [
    "import abc\n",
    "\n",
    "class shape(metaclass=abc.ABCMeta):\n",
    "    def area(self):\n",
    "        pass\n",
    "        \n",
    "        \n",
    "    def perimeter(self):\n",
    "        pass"
   ]
  },
  {
   "cell_type": "code",
   "execution_count": 22,
   "id": "8fa77a55",
   "metadata": {},
   "outputs": [
    {
     "ename": "NameError",
     "evalue": "name 'Shape' is not defined",
     "output_type": "error",
     "traceback": [
      "\u001b[1;31m---------------------------------------------------------------------------\u001b[0m",
      "\u001b[1;31mNameError\u001b[0m                                 Traceback (most recent call last)",
      "\u001b[1;32m~\\AppData\\Local\\Temp/ipykernel_16648/1325545470.py\u001b[0m in \u001b[0;36m<module>\u001b[1;34m\u001b[0m\n\u001b[1;32m----> 1\u001b[1;33m \u001b[0mshape\u001b[0m \u001b[1;33m=\u001b[0m \u001b[0mShape\u001b[0m\u001b[1;33m(\u001b[0m\u001b[1;33m)\u001b[0m\u001b[1;33m\u001b[0m\u001b[1;33m\u001b[0m\u001b[0m\n\u001b[0m",
      "\u001b[1;31mNameError\u001b[0m: name 'Shape' is not defined"
     ]
    }
   ],
   "source": [
    "shape = Shape()"
   ]
  },
  {
   "cell_type": "code",
   "execution_count": 23,
   "id": "2750876d",
   "metadata": {},
   "outputs": [
    {
     "ename": "NameError",
     "evalue": "name 'Shape' is not defined",
     "output_type": "error",
     "traceback": [
      "\u001b[1;31m---------------------------------------------------------------------------\u001b[0m",
      "\u001b[1;31mNameError\u001b[0m                                 Traceback (most recent call last)",
      "\u001b[1;32m~\\AppData\\Local\\Temp/ipykernel_16648/22083881.py\u001b[0m in \u001b[0;36m<module>\u001b[1;34m\u001b[0m\n\u001b[1;32m----> 1\u001b[1;33m \u001b[1;32mclass\u001b[0m \u001b[0mRectangle\u001b[0m\u001b[1;33m(\u001b[0m\u001b[0mShape\u001b[0m\u001b[1;33m)\u001b[0m\u001b[1;33m:\u001b[0m\u001b[1;33m\u001b[0m\u001b[1;33m\u001b[0m\u001b[0m\n\u001b[0m\u001b[0;32m      2\u001b[0m     \u001b[1;32mdef\u001b[0m \u001b[0m__init__\u001b[0m\u001b[1;33m(\u001b[0m\u001b[0mself\u001b[0m\u001b[1;33m,\u001b[0m \u001b[0mwidth\u001b[0m\u001b[1;33m,\u001b[0m \u001b[0mheight\u001b[0m\u001b[1;33m)\u001b[0m\u001b[1;33m:\u001b[0m\u001b[1;33m\u001b[0m\u001b[1;33m\u001b[0m\u001b[0m\n\u001b[0;32m      3\u001b[0m         \u001b[0mself\u001b[0m\u001b[1;33m.\u001b[0m\u001b[0mwidth\u001b[0m \u001b[1;33m=\u001b[0m \u001b[0mwidth\u001b[0m\u001b[1;33m\u001b[0m\u001b[1;33m\u001b[0m\u001b[0m\n\u001b[0;32m      4\u001b[0m         \u001b[0mself\u001b[0m\u001b[1;33m.\u001b[0m\u001b[0mheight\u001b[0m \u001b[1;33m=\u001b[0m \u001b[0mheight\u001b[0m\u001b[1;33m\u001b[0m\u001b[1;33m\u001b[0m\u001b[0m\n\u001b[0;32m      5\u001b[0m \u001b[1;33m\u001b[0m\u001b[0m\n",
      "\u001b[1;31mNameError\u001b[0m: name 'Shape' is not defined"
     ]
    }
   ],
   "source": [
    "class Rectangle(Shape):\n",
    "    def __init__(self, width, height):\n",
    "        self.width = width\n",
    "        self.height = height\n",
    "\n",
    "    def area(self):\n",
    "        return self.width * self.height\n",
    "\n",
    "    def perimeter(self):\n",
    "        return 2 * (self.width + self.height)\n",
    "\n"
   ]
  },
  {
   "cell_type": "code",
   "execution_count": null,
   "id": "53316b7a",
   "metadata": {},
   "outputs": [],
   "source": []
  }
 ],
 "metadata": {
  "kernelspec": {
   "display_name": "Python 3 (ipykernel)",
   "language": "python",
   "name": "python3"
  },
  "language_info": {
   "codemirror_mode": {
    "name": "ipython",
    "version": 3
   },
   "file_extension": ".py",
   "mimetype": "text/x-python",
   "name": "python",
   "nbconvert_exporter": "python",
   "pygments_lexer": "ipython3",
   "version": "3.9.7"
  }
 },
 "nbformat": 4,
 "nbformat_minor": 5
}
