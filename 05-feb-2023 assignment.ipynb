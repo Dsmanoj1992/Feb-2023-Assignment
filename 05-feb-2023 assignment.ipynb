{
 "cells": [
  {
   "cell_type": "markdown",
   "id": "1b6957f9",
   "metadata": {},
   "source": [
    "# Q1. Explain Class and Object with respect to Object-Oriented Programming. Give a suitable example.\n",
    "\n",
    "# Ans)\n",
    "\n",
    "Class is a blueprint or a template that defines the properties and behaviors of objects of the same type. It specifies what data the objects will have and what actions can be performed on the objects.\n",
    "\n",
    "Object is an instance of a class, created at runtime. Each object has its own set of data (instance variables) and behaves based on the class definition.\n",
    "\n",
    "For example, consider a class \"Car\". A car class can have properties such as make, model, color, and year and methods such as start, stop, drive. An object of the car class, such as a specific car, could have make=\"Toyota\", model=\"Camry\", color=\"Red\", year=\"2021\".\n",
    "\n",
    "In short, a class is a blueprint for objects, and an object is an instance of a class."
   ]
  },
  {
   "cell_type": "markdown",
   "id": "5c360ce1",
   "metadata": {},
   "source": [
    "# Q2. Name the four pillars of OOPs. \n",
    "\n",
    "# Ans)\n",
    "\n",
    "Abstraction\n",
    "\n",
    "Encapsulation\n",
    "\n",
    "Inheritance\n",
    "\n",
    "Polymorphism"
   ]
  },
  {
   "cell_type": "code",
   "execution_count": 4,
   "id": "4d7005cf",
   "metadata": {},
   "outputs": [],
   "source": [
    "# Q3. Explain why the __init__() function is used. Give a suitable example.\n",
    "# Ans) \n",
    "\n",
    "# The __init__() function is a special method in Python that is automatically called when an object of a class is created. It is also known as a constructor and is used to initialize the object's attributes or properties.\n",
    "\n",
    "\n",
    "class Person:\n",
    "    def __init__(self, name, age, address):\n",
    "        self.name = name\n",
    "        self.age = age\n",
    "        self.address = address\n",
    "\n",
    "person1 = Person(\"Jr Neymer \", 30, \"123 Brazil St.\")\n",
    "person2 = Person(\"kylian Mbappe\", 24,\"564 France st.\")\n"
   ]
  },
  {
   "cell_type": "code",
   "execution_count": 7,
   "id": "79da0e6d",
   "metadata": {},
   "outputs": [
    {
     "data": {
      "text/plain": [
       "'Jr Neymer '"
      ]
     },
     "execution_count": 7,
     "metadata": {},
     "output_type": "execute_result"
    }
   ],
   "source": [
    "person1.name"
   ]
  },
  {
   "cell_type": "code",
   "execution_count": 9,
   "id": "9578a581",
   "metadata": {},
   "outputs": [
    {
     "data": {
      "text/plain": [
       "'kylian Mbappe'"
      ]
     },
     "execution_count": 9,
     "metadata": {},
     "output_type": "execute_result"
    }
   ],
   "source": [
    "person2.name"
   ]
  },
  {
   "cell_type": "code",
   "execution_count": null,
   "id": "b8ffac5b",
   "metadata": {},
   "outputs": [],
   "source": [
    "# # Q4. Why self is used in OOPs? \n",
    "# # Ans) \n",
    "# In Object-Oriented Programming (OOP), the self keyword is used as a reference to the instance of the class. It is a convention in Python to use self as the first argument of an instance method, which is a function that operates on an instance of a class.\n",
    "\n",
    "# The self reference allows the method to access and modify the properties and behaviors of the instance on which it is called. This is because each instance of a class has its own set of data (instance variables) and methods, and self provides a way to access that data for each instance."
   ]
  },
  {
   "cell_type": "code",
   "execution_count": null,
   "id": "71150aba",
   "metadata": {},
   "outputs": [],
   "source": [
    "# Q5. What is inheritance? Give an example for each type of inheritance. \n",
    "# Ans)\n",
    "# Inheritance is a mechanism in Object-Oriented Programming (OOP) that allows a new class to reuse and inherit properties and behaviors from an existing class. This allows for the creation of new classes that are based on and related to existing classes, promoting code reuse and encapsulation.\n",
    "# There are several types of inheritance, including:"
   ]
  },
  {
   "cell_type": "code",
   "execution_count": 10,
   "id": "12e7c1eb",
   "metadata": {},
   "outputs": [],
   "source": [
    "# Single inheritance: A subclass inherits from a single superclass.\n",
    "\n",
    "class Animal:\n",
    "    def __init__(self, name, species):\n",
    "        self.name = name\n",
    "        self.species = species\n",
    "        \n",
    "    def make_sound(self):\n",
    "        print(\"Sound\")\n",
    "        \n",
    "class Dog(Animal):\n",
    "    def __init__(self, name, breed):\n",
    "        Animal.__init__(self, name, species=\"Dog\")\n",
    "        self.breed = breed\n",
    "        \n",
    "    def make_sound(self):\n",
    "        print(\"Bark\")\n"
   ]
  },
  {
   "cell_type": "code",
   "execution_count": 12,
   "id": "8fb68eca",
   "metadata": {},
   "outputs": [
    {
     "data": {
      "text/plain": [
       "<function __main__.Dog.make_sound(self)>"
      ]
     },
     "execution_count": 12,
     "metadata": {},
     "output_type": "execute_result"
    }
   ],
   "source": [
    "Dog.make_sound"
   ]
  },
  {
   "cell_type": "code",
   "execution_count": 13,
   "id": "ec89d640",
   "metadata": {},
   "outputs": [],
   "source": [
    "# Multiple inheritance: A subclass inherits from multiple superclasses.\n",
    "\n",
    "class A:\n",
    "    def method_A(self):\n",
    "        print(\"Method A\")\n",
    "        \n",
    "class B:\n",
    "    def method_B(self):\n",
    "        print(\"Method B\")\n",
    "        \n",
    "class C(A, B):\n",
    "    pass\n"
   ]
  },
  {
   "cell_type": "code",
   "execution_count": 14,
   "id": "105e0b0f",
   "metadata": {},
   "outputs": [
    {
     "name": "stdout",
     "output_type": "stream",
     "text": [
      "<class 'type'>\n"
     ]
    }
   ],
   "source": [
    "print(type(A))"
   ]
  },
  {
   "cell_type": "code",
   "execution_count": 16,
   "id": "6571cc52",
   "metadata": {},
   "outputs": [],
   "source": [
    "manoj = A()"
   ]
  },
  {
   "cell_type": "code",
   "execution_count": 17,
   "id": "92e2ef44",
   "metadata": {},
   "outputs": [
    {
     "name": "stdout",
     "output_type": "stream",
     "text": [
      "<class '__main__.A'>\n"
     ]
    }
   ],
   "source": [
    "print(type(manoj))"
   ]
  },
  {
   "cell_type": "code",
   "execution_count": 18,
   "id": "1d600287",
   "metadata": {},
   "outputs": [
    {
     "data": {
      "text/plain": [
       "<bound method A.method_A of <__main__.A object at 0x0000029A49458D30>>"
      ]
     },
     "execution_count": 18,
     "metadata": {},
     "output_type": "execute_result"
    }
   ],
   "source": [
    "manoj.method_A"
   ]
  },
  {
   "cell_type": "code",
   "execution_count": 21,
   "id": "774dedb8",
   "metadata": {},
   "outputs": [],
   "source": [
    "# Multi-level inheritance: A subclass inherits from a superclass, which in turn inherits from another superclass.\n",
    "\n",
    "class Grandparent:\n",
    "    def grandparent_method(self):\n",
    "        print(\"Grandparent Method\")\n",
    "        \n",
    "class Parent(Grandparent):\n",
    "    def parent_method(self):\n",
    "        print(\"Parent Method\")\n",
    "        \n",
    "class Child(Parent):\n",
    "    pass\n"
   ]
  },
  {
   "cell_type": "code",
   "execution_count": 22,
   "id": "336bc36e",
   "metadata": {},
   "outputs": [
    {
     "name": "stdout",
     "output_type": "stream",
     "text": [
      "<class 'type'>\n"
     ]
    }
   ],
   "source": [
    "print(type(Child))"
   ]
  },
  {
   "cell_type": "code",
   "execution_count": 25,
   "id": "ec6342a1",
   "metadata": {},
   "outputs": [],
   "source": [
    "Child = Grandparent()"
   ]
  },
  {
   "cell_type": "code",
   "execution_count": 26,
   "id": "79bc5b9a",
   "metadata": {},
   "outputs": [
    {
     "data": {
      "text/plain": [
       "__main__.Grandparent"
      ]
     },
     "execution_count": 26,
     "metadata": {},
     "output_type": "execute_result"
    }
   ],
   "source": [
    "type(Child)"
   ]
  },
  {
   "cell_type": "code",
   "execution_count": null,
   "id": "873e182a",
   "metadata": {},
   "outputs": [],
   "source": []
  }
 ],
 "metadata": {
  "kernelspec": {
   "display_name": "Python 3 (ipykernel)",
   "language": "python",
   "name": "python3"
  },
  "language_info": {
   "codemirror_mode": {
    "name": "ipython",
    "version": 3
   },
   "file_extension": ".py",
   "mimetype": "text/x-python",
   "name": "python",
   "nbconvert_exporter": "python",
   "pygments_lexer": "ipython3",
   "version": "3.9.7"
  }
 },
 "nbformat": 4,
 "nbformat_minor": 5
}
